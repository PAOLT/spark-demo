{
  "cells": [
    {
      "cell_type": "code",
      "source": [
        "from pyspark.sql.functions import pandas_udf\r\n",
        "from pyspark.sql.types import StructField, FloatType, StructType\r\n",
        "import pandas as pd\r\n",
        "import numpy as np\r\n",
        "from numpy import random\r\n",
        "import time"
      ],
      "outputs": [
        {
          "output_type": "display_data",
          "data": {
            "application/vnd.livy.statement-meta+json": {
              "spark_pool": "large",
              "session_id": "10",
              "statement_id": 62,
              "state": "finished",
              "livy_statement_state": "available",
              "queued_time": "2022-11-06T14:03:37.6455418Z",
              "session_start_time": null,
              "execution_start_time": "2022-11-06T14:03:37.8255534Z",
              "execution_finish_time": "2022-11-06T14:03:38.0557671Z",
              "spark_jobs": null
            },
            "text/plain": "StatementMeta(large, 10, 62, Finished, Available)"
          },
          "metadata": {}
        }
      ],
      "execution_count": 62,
      "metadata": {
        "jupyter": {
          "source_hidden": false,
          "outputs_hidden": false
        },
        "nteract": {
          "transient": {
            "deleting": false
          }
        }
      }
    },
    {
      "cell_type": "code",
      "source": [
        "one_k = 1000\r\n",
        "num_records_k = 10 \r\n",
        "num_records = num_records_k * one_k\r\n",
        "compute_time = 0.05"
      ],
      "outputs": [
        {
          "output_type": "display_data",
          "data": {
            "application/vnd.livy.statement-meta+json": {
              "spark_pool": "large",
              "session_id": "10",
              "statement_id": 63,
              "state": "finished",
              "livy_statement_state": "available",
              "queued_time": "2022-11-06T14:03:37.7352471Z",
              "session_start_time": null,
              "execution_start_time": "2022-11-06T14:03:38.1748864Z",
              "execution_finish_time": "2022-11-06T14:03:38.4284415Z",
              "spark_jobs": null
            },
            "text/plain": "StatementMeta(large, 10, 63, Finished, Available)"
          },
          "metadata": {}
        }
      ],
      "execution_count": 63,
      "metadata": {
        "jupyter": {
          "source_hidden": false,
          "outputs_hidden": false
        },
        "nteract": {
          "transient": {
            "deleting": false
          }
        }
      }
    },
    {
      "cell_type": "code",
      "source": [
        "def simple_numpy_calc(narr, compute_time=compute_time):\r\n",
        "    avg_arr=[]\r\n",
        "    for x in narr:\r\n",
        "        time.sleep(compute_time)\r\n",
        "        avg_arr.append(np.mean(x))\r\n",
        "    return np.array(avg_arr)"
      ],
      "outputs": [
        {
          "output_type": "display_data",
          "data": {
            "application/vnd.livy.statement-meta+json": {
              "spark_pool": "large",
              "session_id": "10",
              "statement_id": 64,
              "state": "finished",
              "livy_statement_state": "available",
              "queued_time": "2022-11-06T14:03:37.858536Z",
              "session_start_time": null,
              "execution_start_time": "2022-11-06T14:03:38.5552448Z",
              "execution_finish_time": "2022-11-06T14:03:38.7723998Z",
              "spark_jobs": null
            },
            "text/plain": "StatementMeta(large, 10, 64, Finished, Available)"
          },
          "metadata": {}
        }
      ],
      "execution_count": 64,
      "metadata": {
        "jupyter": {
          "source_hidden": false,
          "outputs_hidden": false
        },
        "nteract": {
          "transient": {
            "deleting": false
          }
        }
      }
    },
    {
      "cell_type": "markdown",
      "source": [
        "## Show the logic over 5 records"
      ],
      "metadata": {
        "nteract": {
          "transient": {
            "deleting": false
          }
        }
      }
    },
    {
      "cell_type": "code",
      "source": [
        "pdf=pd.DataFrame([tuple(random.uniform(1,10,3)) for i in range(5)], columns=[\"x\", \"y\",\"z\"])\r\n",
        "pdf\r\n"
      ],
      "outputs": [
        {
          "output_type": "display_data",
          "data": {
            "application/vnd.livy.statement-meta+json": {
              "spark_pool": "large",
              "session_id": "10",
              "statement_id": 65,
              "state": "finished",
              "livy_statement_state": "available",
              "queued_time": "2022-11-06T14:03:37.9822027Z",
              "session_start_time": null,
              "execution_start_time": "2022-11-06T14:03:39.1707216Z",
              "execution_finish_time": "2022-11-06T14:03:39.346522Z",
              "spark_jobs": null
            },
            "text/plain": "StatementMeta(large, 10, 65, Finished, Available)"
          },
          "metadata": {}
        },
        {
          "output_type": "execute_result",
          "execution_count": 199,
          "data": {
            "text/plain": "          x         y         z\n0  2.651284  5.048348  4.525751\n1  9.571427  3.858004  1.450848\n2  3.805154  1.522073  5.050001\n3  8.305749  2.944056  3.630231\n4  6.882069  6.282540  1.411243",
            "text/html": "<div>\n<style scoped>\n    .dataframe tbody tr th:only-of-type {\n        vertical-align: middle;\n    }\n\n    .dataframe tbody tr th {\n        vertical-align: top;\n    }\n\n    .dataframe thead th {\n        text-align: right;\n    }\n</style>\n<table border=\"1\" class=\"dataframe\">\n  <thead>\n    <tr style=\"text-align: right;\">\n      <th></th>\n      <th>x</th>\n      <th>y</th>\n      <th>z</th>\n    </tr>\n  </thead>\n  <tbody>\n    <tr>\n      <th>0</th>\n      <td>2.651284</td>\n      <td>5.048348</td>\n      <td>4.525751</td>\n    </tr>\n    <tr>\n      <th>1</th>\n      <td>9.571427</td>\n      <td>3.858004</td>\n      <td>1.450848</td>\n    </tr>\n    <tr>\n      <th>2</th>\n      <td>3.805154</td>\n      <td>1.522073</td>\n      <td>5.050001</td>\n    </tr>\n    <tr>\n      <th>3</th>\n      <td>8.305749</td>\n      <td>2.944056</td>\n      <td>3.630231</td>\n    </tr>\n    <tr>\n      <th>4</th>\n      <td>6.882069</td>\n      <td>6.282540</td>\n      <td>1.411243</td>\n    </tr>\n  </tbody>\n</table>\n</div>"
          },
          "metadata": {}
        }
      ],
      "execution_count": 65,
      "metadata": {
        "jupyter": {
          "source_hidden": false,
          "outputs_hidden": false
        },
        "nteract": {
          "transient": {
            "deleting": false
          }
        }
      }
    },
    {
      "cell_type": "code",
      "source": [
        "arr = pdf.to_numpy()\r\n",
        "arr"
      ],
      "outputs": [
        {
          "output_type": "display_data",
          "data": {
            "application/vnd.livy.statement-meta+json": {
              "spark_pool": "large",
              "session_id": "10",
              "statement_id": 66,
              "state": "finished",
              "livy_statement_state": "available",
              "queued_time": "2022-11-06T14:03:38.0647362Z",
              "session_start_time": null,
              "execution_start_time": "2022-11-06T14:03:39.4739532Z",
              "execution_finish_time": "2022-11-06T14:03:39.670311Z",
              "spark_jobs": null
            },
            "text/plain": "StatementMeta(large, 10, 66, Finished, Available)"
          },
          "metadata": {}
        },
        {
          "output_type": "execute_result",
          "execution_count": 202,
          "data": {
            "text/plain": "array([[2.65128395, 5.04834829, 4.52575085],\n       [9.57142734, 3.85800376, 1.45084838],\n       [3.80515353, 1.52207297, 5.05000142],\n       [8.30574893, 2.9440563 , 3.6302309 ],\n       [6.88206903, 6.28254018, 1.41124278]])"
          },
          "metadata": {}
        }
      ],
      "execution_count": 66,
      "metadata": {
        "jupyter": {
          "source_hidden": false,
          "outputs_hidden": false
        },
        "nteract": {
          "transient": {
            "deleting": false
          }
        }
      }
    },
    {
      "cell_type": "code",
      "source": [
        "# process 5 records, 2 seconds per record. Will take 10 seconds...\r\n",
        "start = time.time()\r\n",
        "mean_arr = simple_numpy_calc(arr, 2)\r\n",
        "print(f\"Run in {time.time()-start} seconds\")\r\n",
        "mean_arr"
      ],
      "outputs": [
        {
          "output_type": "display_data",
          "data": {
            "application/vnd.livy.statement-meta+json": {
              "spark_pool": "large",
              "session_id": "10",
              "statement_id": 67,
              "state": "finished",
              "livy_statement_state": "available",
              "queued_time": "2022-11-06T14:03:38.1373613Z",
              "session_start_time": null,
              "execution_start_time": "2022-11-06T14:03:39.8749053Z",
              "execution_finish_time": "2022-11-06T14:03:51.0878551Z",
              "spark_jobs": null
            },
            "text/plain": "StatementMeta(large, 10, 67, Finished, Available)"
          },
          "metadata": {}
        },
        {
          "output_type": "stream",
          "name": "stdout",
          "text": [
            "Run in 10.008042573928833 seconds\n"
          ]
        },
        {
          "output_type": "execute_result",
          "execution_count": 205,
          "data": {
            "text/plain": "array([4.0751277 , 4.96009316, 3.45907597, 4.96001204, 4.85861733])"
          },
          "metadata": {}
        }
      ],
      "execution_count": 67,
      "metadata": {
        "jupyter": {
          "source_hidden": false,
          "outputs_hidden": false
        },
        "nteract": {
          "transient": {
            "deleting": false
          }
        }
      }
    },
    {
      "cell_type": "code",
      "source": [
        "pdf[\"mean\"]=mean_arr\r\n",
        "pdf"
      ],
      "outputs": [
        {
          "output_type": "display_data",
          "data": {
            "application/vnd.livy.statement-meta+json": {
              "spark_pool": "large",
              "session_id": "10",
              "statement_id": 68,
              "state": "finished",
              "livy_statement_state": "available",
              "queued_time": "2022-11-06T14:03:38.1840671Z",
              "session_start_time": null,
              "execution_start_time": "2022-11-06T14:03:51.3205685Z",
              "execution_finish_time": "2022-11-06T14:03:51.4950321Z",
              "spark_jobs": null
            },
            "text/plain": "StatementMeta(large, 10, 68, Finished, Available)"
          },
          "metadata": {}
        },
        {
          "output_type": "execute_result",
          "execution_count": 208,
          "data": {
            "text/plain": "          x         y         z      mean\n0  2.651284  5.048348  4.525751  4.075128\n1  9.571427  3.858004  1.450848  4.960093\n2  3.805154  1.522073  5.050001  3.459076\n3  8.305749  2.944056  3.630231  4.960012\n4  6.882069  6.282540  1.411243  4.858617",
            "text/html": "<div>\n<style scoped>\n    .dataframe tbody tr th:only-of-type {\n        vertical-align: middle;\n    }\n\n    .dataframe tbody tr th {\n        vertical-align: top;\n    }\n\n    .dataframe thead th {\n        text-align: right;\n    }\n</style>\n<table border=\"1\" class=\"dataframe\">\n  <thead>\n    <tr style=\"text-align: right;\">\n      <th></th>\n      <th>x</th>\n      <th>y</th>\n      <th>z</th>\n      <th>mean</th>\n    </tr>\n  </thead>\n  <tbody>\n    <tr>\n      <th>0</th>\n      <td>2.651284</td>\n      <td>5.048348</td>\n      <td>4.525751</td>\n      <td>4.075128</td>\n    </tr>\n    <tr>\n      <th>1</th>\n      <td>9.571427</td>\n      <td>3.858004</td>\n      <td>1.450848</td>\n      <td>4.960093</td>\n    </tr>\n    <tr>\n      <th>2</th>\n      <td>3.805154</td>\n      <td>1.522073</td>\n      <td>5.050001</td>\n      <td>3.459076</td>\n    </tr>\n    <tr>\n      <th>3</th>\n      <td>8.305749</td>\n      <td>2.944056</td>\n      <td>3.630231</td>\n      <td>4.960012</td>\n    </tr>\n    <tr>\n      <th>4</th>\n      <td>6.882069</td>\n      <td>6.282540</td>\n      <td>1.411243</td>\n      <td>4.858617</td>\n    </tr>\n  </tbody>\n</table>\n</div>"
          },
          "metadata": {}
        }
      ],
      "execution_count": 68,
      "metadata": {
        "jupyter": {
          "source_hidden": false,
          "outputs_hidden": false
        },
        "nteract": {
          "transient": {
            "deleting": false
          }
        }
      }
    },
    {
      "cell_type": "markdown",
      "source": [
        "## Doing it in Python (Pandas/Numpy)"
      ],
      "metadata": {
        "nteract": {
          "transient": {
            "deleting": false
          }
        }
      }
    },
    {
      "cell_type": "markdown",
      "source": [
        "Creating a Pandas dataframe with **num_records** records"
      ],
      "metadata": {
        "nteract": {
          "transient": {
            "deleting": false
          }
        }
      }
    },
    {
      "cell_type": "code",
      "source": [
        "pdf=pd.DataFrame([tuple(random.uniform(1,10,3)) for i in range(num_records)], columns=[\"x\", \"y\",\"z\"])\r\n",
        "print(f\"{len(pdf)/one_k} M\")\r\n",
        "pdf[:3]"
      ],
      "outputs": [
        {
          "output_type": "display_data",
          "data": {
            "application/vnd.livy.statement-meta+json": {
              "spark_pool": "large",
              "session_id": "10",
              "statement_id": 69,
              "state": "finished",
              "livy_statement_state": "available",
              "queued_time": "2022-11-06T14:03:38.2332139Z",
              "session_start_time": null,
              "execution_start_time": "2022-11-06T14:03:51.6169946Z",
              "execution_finish_time": "2022-11-06T14:03:51.8270046Z",
              "spark_jobs": null
            },
            "text/plain": "StatementMeta(large, 10, 69, Finished, Available)"
          },
          "metadata": {}
        },
        {
          "output_type": "stream",
          "name": "stdout",
          "text": [
            "10.0 M\n"
          ]
        },
        {
          "output_type": "execute_result",
          "execution_count": 211,
          "data": {
            "text/plain": "          x         y         z\n0  4.745272  5.360582  1.789370\n1  7.505946  6.770241  4.589608\n2  2.971494  2.126862  2.466982",
            "text/html": "<div>\n<style scoped>\n    .dataframe tbody tr th:only-of-type {\n        vertical-align: middle;\n    }\n\n    .dataframe tbody tr th {\n        vertical-align: top;\n    }\n\n    .dataframe thead th {\n        text-align: right;\n    }\n</style>\n<table border=\"1\" class=\"dataframe\">\n  <thead>\n    <tr style=\"text-align: right;\">\n      <th></th>\n      <th>x</th>\n      <th>y</th>\n      <th>z</th>\n    </tr>\n  </thead>\n  <tbody>\n    <tr>\n      <th>0</th>\n      <td>4.745272</td>\n      <td>5.360582</td>\n      <td>1.789370</td>\n    </tr>\n    <tr>\n      <th>1</th>\n      <td>7.505946</td>\n      <td>6.770241</td>\n      <td>4.589608</td>\n    </tr>\n    <tr>\n      <th>2</th>\n      <td>2.971494</td>\n      <td>2.126862</td>\n      <td>2.466982</td>\n    </tr>\n  </tbody>\n</table>\n</div>"
          },
          "metadata": {}
        }
      ],
      "execution_count": 69,
      "metadata": {
        "jupyter": {
          "source_hidden": false,
          "outputs_hidden": false
        },
        "nteract": {
          "transient": {
            "deleting": false
          }
        }
      }
    },
    {
      "cell_type": "markdown",
      "source": [
        "Running it. With 0.05 seconds per record and 10K records it will take approx 500 seconds"
      ],
      "metadata": {
        "nteract": {
          "transient": {
            "deleting": false
          }
        }
      }
    },
    {
      "cell_type": "code",
      "source": [
        "start = time.time()\r\n",
        "arr = pdf.to_numpy()\r\n",
        "mean_arr = simple_numpy_calc(arr)\r\n",
        "pdf[\"mean\"]=mean_arr\r\n",
        "print(f\"Run in {time.time()-start} seconds\")\r\n",
        "pdf[:3]"
      ],
      "outputs": [
        {
          "output_type": "display_data",
          "data": {
            "application/vnd.livy.statement-meta+json": {
              "spark_pool": "large",
              "session_id": "10",
              "statement_id": 70,
              "state": "finished",
              "livy_statement_state": "available",
              "queued_time": "2022-11-06T14:03:38.3705201Z",
              "session_start_time": null,
              "execution_start_time": "2022-11-06T14:03:51.9647885Z",
              "execution_finish_time": "2022-11-06T14:12:14.8308734Z",
              "spark_jobs": null
            },
            "text/plain": "StatementMeta(large, 10, 70, Finished, Available)"
          },
          "metadata": {}
        },
        {
          "output_type": "stream",
          "name": "stdout",
          "text": [
            "Run in 501.4050033092499 seconds\n"
          ]
        },
        {
          "output_type": "execute_result",
          "execution_count": 214,
          "data": {
            "text/plain": "          x         y         z      mean\n0  4.745272  5.360582  1.789370  3.965075\n1  7.505946  6.770241  4.589608  6.288599\n2  2.971494  2.126862  2.466982  2.521779",
            "text/html": "<div>\n<style scoped>\n    .dataframe tbody tr th:only-of-type {\n        vertical-align: middle;\n    }\n\n    .dataframe tbody tr th {\n        vertical-align: top;\n    }\n\n    .dataframe thead th {\n        text-align: right;\n    }\n</style>\n<table border=\"1\" class=\"dataframe\">\n  <thead>\n    <tr style=\"text-align: right;\">\n      <th></th>\n      <th>x</th>\n      <th>y</th>\n      <th>z</th>\n      <th>mean</th>\n    </tr>\n  </thead>\n  <tbody>\n    <tr>\n      <th>0</th>\n      <td>4.745272</td>\n      <td>5.360582</td>\n      <td>1.789370</td>\n      <td>3.965075</td>\n    </tr>\n    <tr>\n      <th>1</th>\n      <td>7.505946</td>\n      <td>6.770241</td>\n      <td>4.589608</td>\n      <td>6.288599</td>\n    </tr>\n    <tr>\n      <th>2</th>\n      <td>2.971494</td>\n      <td>2.126862</td>\n      <td>2.466982</td>\n      <td>2.521779</td>\n    </tr>\n  </tbody>\n</table>\n</div>"
          },
          "metadata": {}
        }
      ],
      "execution_count": 70,
      "metadata": {
        "jupyter": {
          "source_hidden": false,
          "outputs_hidden": false
        },
        "nteract": {
          "transient": {
            "deleting": false
          }
        }
      }
    },
    {
      "cell_type": "markdown",
      "source": [
        "## Doing it at scale in Spark"
      ],
      "metadata": {
        "nteract": {
          "transient": {
            "deleting": false
          }
        }
      }
    },
    {
      "cell_type": "markdown",
      "source": [
        "Creating a Spark dataframe"
      ],
      "metadata": {
        "nteract": {
          "transient": {
            "deleting": false
          }
        }
      }
    },
    {
      "cell_type": "code",
      "source": [
        "df=spark.createDataFrame(pdf)\r\n",
        "assert df.count()==num_records\r\n",
        "display(df.limit(3))\r\n"
      ],
      "outputs": [
        {
          "output_type": "display_data",
          "data": {
            "application/vnd.livy.statement-meta+json": {
              "spark_pool": "large",
              "session_id": "10",
              "statement_id": 71,
              "state": "finished",
              "livy_statement_state": "available",
              "queued_time": "2022-11-06T14:03:38.473948Z",
              "session_start_time": null,
              "execution_start_time": "2022-11-06T14:12:15.0476241Z",
              "execution_finish_time": "2022-11-06T14:12:15.6187795Z",
              "spark_jobs": null
            },
            "text/plain": "StatementMeta(large, 10, 71, Finished, Available)"
          },
          "metadata": {}
        },
        {
          "output_type": "display_data",
          "data": {
            "application/vnd.synapse.widget-view+json": {
              "widget_id": "98a0997b-5df1-4a5e-8bba-fe065a592531",
              "widget_type": "Synapse.DataFrame"
            },
            "text/plain": "SynapseWidget(Synapse.DataFrame, 98a0997b-5df1-4a5e-8bba-fe065a592531)"
          },
          "metadata": {}
        }
      ],
      "execution_count": 71,
      "metadata": {
        "jupyter": {
          "source_hidden": false,
          "outputs_hidden": false
        },
        "nteract": {
          "transient": {
            "deleting": false
          }
        },
        "collapsed": false
      }
    },
    {
      "cell_type": "code",
      "source": [
        "df.rdd.getNumPartitions()"
      ],
      "outputs": [
        {
          "output_type": "display_data",
          "data": {
            "application/vnd.livy.statement-meta+json": {
              "spark_pool": "large",
              "session_id": "10",
              "statement_id": 72,
              "state": "finished",
              "livy_statement_state": "available",
              "queued_time": "2022-11-06T14:03:38.536733Z",
              "session_start_time": null,
              "execution_start_time": "2022-11-06T14:12:15.7559376Z",
              "execution_finish_time": "2022-11-06T14:12:16.1207066Z",
              "spark_jobs": null
            },
            "text/plain": "StatementMeta(large, 10, 72, Finished, Available)"
          },
          "metadata": {}
        },
        {
          "output_type": "execute_result",
          "execution_count": 220,
          "data": {
            "text/plain": "8"
          },
          "metadata": {}
        }
      ],
      "execution_count": 72,
      "metadata": {
        "jupyter": {
          "source_hidden": false,
          "outputs_hidden": false
        },
        "nteract": {
          "transient": {
            "deleting": false
          }
        }
      }
    },
    {
      "cell_type": "markdown",
      "source": [
        "Creating a function to apply with **mapInPandas**\r\n",
        "\r\n",
        "https://spark.apache.org/docs/latest/api/python/reference/pyspark.sql/api/pyspark.sql.DataFrame.mapInPandas.html#pyspark-sql-dataframe-mapinpandas"
      ],
      "metadata": {
        "nteract": {
          "transient": {
            "deleting": false
          }
        }
      }
    },
    {
      "cell_type": "code",
      "source": [
        "def some_func(iterator):\r\n",
        "    for p_df in iterator:\r\n",
        "        arr = p_df.to_numpy()\r\n",
        "        mean_arr = simple_numpy_calc(arr)\r\n",
        "        p_df[\"mean\"]=mean_arr\r\n",
        "        yield p_df\r\n"
      ],
      "outputs": [
        {
          "output_type": "display_data",
          "data": {
            "application/vnd.livy.statement-meta+json": {
              "spark_pool": "large",
              "session_id": "10",
              "statement_id": 73,
              "state": "finished",
              "livy_statement_state": "available",
              "queued_time": "2022-11-06T14:03:38.5892733Z",
              "session_start_time": null,
              "execution_start_time": "2022-11-06T14:12:16.2931473Z",
              "execution_finish_time": "2022-11-06T14:12:16.4717619Z",
              "spark_jobs": null
            },
            "text/plain": "StatementMeta(large, 10, 73, Finished, Available)"
          },
          "metadata": {}
        }
      ],
      "execution_count": 73,
      "metadata": {
        "jupyter": {
          "source_hidden": false,
          "outputs_hidden": false
        },
        "nteract": {
          "transient": {
            "deleting": false
          }
        }
      }
    },
    {
      "cell_type": "code",
      "source": [
        "schema = StructType([StructField(\"mean\", FloatType())])"
      ],
      "outputs": [
        {
          "output_type": "display_data",
          "data": {
            "application/vnd.livy.statement-meta+json": {
              "spark_pool": "large",
              "session_id": "10",
              "statement_id": 74,
              "state": "finished",
              "livy_statement_state": "available",
              "queued_time": "2022-11-06T14:03:38.75884Z",
              "session_start_time": null,
              "execution_start_time": "2022-11-06T14:12:16.6055788Z",
              "execution_finish_time": "2022-11-06T14:12:16.8107412Z",
              "spark_jobs": null
            },
            "text/plain": "StatementMeta(large, 10, 74, Finished, Available)"
          },
          "metadata": {}
        }
      ],
      "execution_count": 74,
      "metadata": {
        "jupyter": {
          "source_hidden": false,
          "outputs_hidden": false
        },
        "nteract": {
          "transient": {
            "deleting": false
          }
        }
      }
    },
    {
      "cell_type": "code",
      "source": [
        "df2=df.mapInPandas(some_func, schema)\r\n",
        "start = time.time()\r\n",
        "display(df2)\r\n",
        "print(time.time()-start)"
      ],
      "outputs": [
        {
          "output_type": "display_data",
          "data": {
            "application/vnd.livy.statement-meta+json": {
              "spark_pool": "large",
              "session_id": "10",
              "statement_id": 75,
              "state": "finished",
              "livy_statement_state": "available",
              "queued_time": "2022-11-06T14:03:38.9069642Z",
              "session_start_time": null,
              "execution_start_time": "2022-11-06T14:12:16.9743494Z",
              "execution_finish_time": "2022-11-06T14:13:20.5683061Z",
              "spark_jobs": null
            },
            "text/plain": "StatementMeta(large, 10, 75, Finished, Available)"
          },
          "metadata": {}
        },
        {
          "output_type": "display_data",
          "data": {
            "application/vnd.synapse.widget-view+json": {
              "widget_id": "4e82ecb9-ec0a-4f72-819e-f0bcd5f0566a",
              "widget_type": "Synapse.DataFrame"
            },
            "text/plain": "SynapseWidget(Synapse.DataFrame, 4e82ecb9-ec0a-4f72-819e-f0bcd5f0566a)"
          },
          "metadata": {}
        },
        {
          "output_type": "stream",
          "name": "stdout",
          "text": [
            "63.123297929763794\n"
          ]
        }
      ],
      "execution_count": 75,
      "metadata": {
        "jupyter": {
          "source_hidden": false,
          "outputs_hidden": false
        },
        "nteract": {
          "transient": {
            "deleting": false
          }
        },
        "collapsed": false
      }
    },
    {
      "cell_type": "code",
      "source": [
        "63*8"
      ],
      "outputs": [
        {
          "output_type": "display_data",
          "data": {
            "application/vnd.livy.statement-meta+json": {
              "spark_pool": "large",
              "session_id": "10",
              "statement_id": 76,
              "state": "finished",
              "livy_statement_state": "available",
              "queued_time": "2022-11-06T14:03:39.1264912Z",
              "session_start_time": null,
              "execution_start_time": "2022-11-06T14:13:20.7435159Z",
              "execution_finish_time": "2022-11-06T14:13:20.9065009Z",
              "spark_jobs": null
            },
            "text/plain": "StatementMeta(large, 10, 76, Finished, Available)"
          },
          "metadata": {}
        },
        {
          "output_type": "execute_result",
          "execution_count": 232,
          "data": {
            "text/plain": "504"
          },
          "metadata": {}
        }
      ],
      "execution_count": 76,
      "metadata": {
        "jupyter": {
          "source_hidden": false,
          "outputs_hidden": false
        },
        "nteract": {
          "transient": {
            "deleting": false
          }
        }
      }
    }
  ],
  "metadata": {
    "kernelspec": {
      "name": "synapse_pyspark",
      "language": "Python",
      "display_name": "Synapse PySpark"
    },
    "language_info": {
      "name": "python"
    },
    "kernel_info": {
      "name": "synapse_pyspark"
    },
    "save_output": true,
    "synapse_widget": {
      "version": "0.1",
      "state": {
        "98a0997b-5df1-4a5e-8bba-fe065a592531": {
          "type": "Synapse.DataFrame",
          "sync_state": {
            "table": {
              "rows": [
                {
                  "0": "4.7452720234809584",
                  "1": "5.3605823874536735",
                  "2": "1.789370279649531",
                  "3": "3.9650748968613883"
                },
                {
                  "0": "7.505946420609002",
                  "1": "6.770241145180737",
                  "2": "4.58960803467672",
                  "3": "6.28859853348882"
                },
                {
                  "0": "2.971494318009512",
                  "1": "2.126862314159794",
                  "2": "2.466981633492681",
                  "3": "2.521779421887329"
                }
              ],
              "schema": [
                {
                  "key": "0",
                  "name": "x",
                  "type": "double"
                },
                {
                  "key": "1",
                  "name": "y",
                  "type": "double"
                },
                {
                  "key": "2",
                  "name": "z",
                  "type": "double"
                },
                {
                  "key": "3",
                  "name": "mean",
                  "type": "double"
                }
              ],
              "truncated": false
            },
            "isSummary": false,
            "language": "scala"
          },
          "persist_state": {
            "view": {
              "type": "details",
              "tableOptions": {},
              "chartOptions": {
                "chartType": "bar",
                "aggregationType": "sum",
                "categoryFieldKeys": [
                  "1"
                ],
                "seriesFieldKeys": [
                  "0"
                ],
                "isStacked": false
              }
            }
          }
        },
        "4e82ecb9-ec0a-4f72-819e-f0bcd5f0566a": {
          "type": "Synapse.DataFrame",
          "sync_state": {
            "table": {
              "rows": [
                {
                  "0": "3.965075"
                },
                {
                  "0": "6.2885985"
                },
                {
                  "0": "2.5217795"
                },
                {
                  "0": "7.440245"
                },
                {
                  "0": "4.8908877"
                },
                {
                  "0": "4.1069965"
                },
                {
                  "0": "6.849347"
                },
                {
                  "0": "5.6090093"
                },
                {
                  "0": "1.6625723"
                },
                {
                  "0": "4.419176"
                },
                {
                  "0": "7.002855"
                },
                {
                  "0": "2.8949814"
                },
                {
                  "0": "5.0117936"
                },
                {
                  "0": "6.570487"
                },
                {
                  "0": "4.880457"
                },
                {
                  "0": "6.257334"
                },
                {
                  "0": "7.709744"
                },
                {
                  "0": "4.353888"
                },
                {
                  "0": "4.334831"
                },
                {
                  "0": "4.0614805"
                },
                {
                  "0": "3.9045494"
                },
                {
                  "0": "5.050224"
                },
                {
                  "0": "7.244654"
                },
                {
                  "0": "3.9805536"
                },
                {
                  "0": "4.680607"
                },
                {
                  "0": "5.833269"
                },
                {
                  "0": "5.9841237"
                },
                {
                  "0": "5.5643954"
                },
                {
                  "0": "4.7435727"
                },
                {
                  "0": "4.345447"
                },
                {
                  "0": "3.7390563"
                },
                {
                  "0": "3.1982358"
                },
                {
                  "0": "5.0895987"
                },
                {
                  "0": "2.9015365"
                },
                {
                  "0": "3.8354323"
                },
                {
                  "0": "3.710804"
                },
                {
                  "0": "7.2680387"
                },
                {
                  "0": "6.537132"
                },
                {
                  "0": "6.8463993"
                },
                {
                  "0": "6.4011745"
                },
                {
                  "0": "6.548085"
                },
                {
                  "0": "8.125971"
                },
                {
                  "0": "4.79183"
                },
                {
                  "0": "5.331807"
                },
                {
                  "0": "6.582084"
                },
                {
                  "0": "7.4045463"
                },
                {
                  "0": "3.6235561"
                },
                {
                  "0": "4.62224"
                },
                {
                  "0": "4.5597897"
                },
                {
                  "0": "4.275422"
                },
                {
                  "0": "5.7197413"
                },
                {
                  "0": "5.450258"
                },
                {
                  "0": "6.29132"
                },
                {
                  "0": "6.490542"
                },
                {
                  "0": "3.3101552"
                },
                {
                  "0": "7.8358164"
                },
                {
                  "0": "5.9441557"
                },
                {
                  "0": "7.5954766"
                },
                {
                  "0": "7.690046"
                },
                {
                  "0": "5.719724"
                },
                {
                  "0": "6.190178"
                },
                {
                  "0": "3.7561715"
                },
                {
                  "0": "6.0748854"
                },
                {
                  "0": "7.1516056"
                },
                {
                  "0": "6.1986465"
                },
                {
                  "0": "8.499193"
                },
                {
                  "0": "6.86703"
                },
                {
                  "0": "6.464883"
                },
                {
                  "0": "5.65726"
                },
                {
                  "0": "3.919839"
                },
                {
                  "0": "4.8287044"
                },
                {
                  "0": "7.0215735"
                },
                {
                  "0": "7.254608"
                },
                {
                  "0": "5.3145185"
                },
                {
                  "0": "6.07845"
                },
                {
                  "0": "3.3508408"
                },
                {
                  "0": "5.5985355"
                },
                {
                  "0": "5.6381335"
                },
                {
                  "0": "7.802629"
                },
                {
                  "0": "8.728401"
                },
                {
                  "0": "8.254418"
                },
                {
                  "0": "4.959592"
                },
                {
                  "0": "4.8824916"
                },
                {
                  "0": "2.7387164"
                },
                {
                  "0": "7.505433"
                },
                {
                  "0": "3.52003"
                },
                {
                  "0": "4.9989457"
                },
                {
                  "0": "4.3663936"
                },
                {
                  "0": "4.0435815"
                },
                {
                  "0": "8.59468"
                },
                {
                  "0": "6.599271"
                },
                {
                  "0": "6.6082716"
                },
                {
                  "0": "7.5013227"
                },
                {
                  "0": "2.2881196"
                },
                {
                  "0": "5.0155826"
                },
                {
                  "0": "5.630747"
                },
                {
                  "0": "6.186427"
                },
                {
                  "0": "8.820694"
                },
                {
                  "0": "3.4921806"
                },
                {
                  "0": "4.510087"
                },
                {
                  "0": "5.0296283"
                },
                {
                  "0": "6.623571"
                },
                {
                  "0": "6.624922"
                },
                {
                  "0": "5.61363"
                },
                {
                  "0": "3.5685446"
                },
                {
                  "0": "4.7904806"
                },
                {
                  "0": "6.1968503"
                },
                {
                  "0": "8.160156"
                },
                {
                  "0": "4.739739"
                },
                {
                  "0": "5.9835353"
                },
                {
                  "0": "5.6786766"
                },
                {
                  "0": "5.800472"
                },
                {
                  "0": "4.1320114"
                },
                {
                  "0": "6.2839255"
                },
                {
                  "0": "2.2562423"
                },
                {
                  "0": "7.0646358"
                },
                {
                  "0": "5.6747484"
                },
                {
                  "0": "1.9130837"
                },
                {
                  "0": "3.1473575"
                },
                {
                  "0": "7.1879377"
                },
                {
                  "0": "4.6630507"
                },
                {
                  "0": "3.9187694"
                },
                {
                  "0": "5.536095"
                },
                {
                  "0": "5.458035"
                },
                {
                  "0": "3.9546187"
                },
                {
                  "0": "3.6919756"
                },
                {
                  "0": "4.860957"
                },
                {
                  "0": "4.164699"
                },
                {
                  "0": "6.8400483"
                },
                {
                  "0": "2.2806127"
                },
                {
                  "0": "3.619114"
                },
                {
                  "0": "7.476678"
                },
                {
                  "0": "6.4533873"
                },
                {
                  "0": "6.6249433"
                },
                {
                  "0": "5.329006"
                },
                {
                  "0": "4.622104"
                },
                {
                  "0": "4.840348"
                },
                {
                  "0": "8.304707"
                },
                {
                  "0": "7.986544"
                },
                {
                  "0": "8.718436"
                },
                {
                  "0": "3.4507267"
                },
                {
                  "0": "5.966959"
                },
                {
                  "0": "5.857398"
                },
                {
                  "0": "4.9487906"
                },
                {
                  "0": "5.556378"
                },
                {
                  "0": "3.505405"
                },
                {
                  "0": "5.2548532"
                },
                {
                  "0": "7.901083"
                },
                {
                  "0": "6.064236"
                },
                {
                  "0": "4.602308"
                },
                {
                  "0": "5.4945307"
                },
                {
                  "0": "3.7475798"
                },
                {
                  "0": "6.1503863"
                },
                {
                  "0": "8.018395"
                },
                {
                  "0": "4.055653"
                },
                {
                  "0": "5.515176"
                },
                {
                  "0": "6.6893663"
                },
                {
                  "0": "5.171285"
                },
                {
                  "0": "3.508763"
                },
                {
                  "0": "4.352775"
                },
                {
                  "0": "6.1233273"
                },
                {
                  "0": "7.06344"
                },
                {
                  "0": "3.7015324"
                },
                {
                  "0": "4.282706"
                },
                {
                  "0": "4.263596"
                },
                {
                  "0": "6.149561"
                },
                {
                  "0": "5.5398717"
                },
                {
                  "0": "6.398493"
                },
                {
                  "0": "8.307362"
                },
                {
                  "0": "7.797073"
                },
                {
                  "0": "4.273988"
                },
                {
                  "0": "5.1181035"
                },
                {
                  "0": "4.291799"
                },
                {
                  "0": "4.4198375"
                },
                {
                  "0": "5.5645"
                },
                {
                  "0": "4.976984"
                },
                {
                  "0": "4.4573307"
                },
                {
                  "0": "4.1054816"
                },
                {
                  "0": "6.448541"
                },
                {
                  "0": "5.2990046"
                },
                {
                  "0": "7.488454"
                },
                {
                  "0": "6.882473"
                },
                {
                  "0": "4.6581497"
                },
                {
                  "0": "4.5640225"
                },
                {
                  "0": "2.612752"
                },
                {
                  "0": "4.6338415"
                },
                {
                  "0": "6.5132794"
                },
                {
                  "0": "7.338928"
                },
                {
                  "0": "4.104797"
                },
                {
                  "0": "4.828798"
                },
                {
                  "0": "7.413766"
                },
                {
                  "0": "3.6554234"
                },
                {
                  "0": "4.063537"
                },
                {
                  "0": "4.9868407"
                },
                {
                  "0": "6.557069"
                },
                {
                  "0": "2.9737003"
                },
                {
                  "0": "4.945246"
                },
                {
                  "0": "5.1153297"
                },
                {
                  "0": "5.840193"
                },
                {
                  "0": "5.2516356"
                },
                {
                  "0": "5.2920704"
                },
                {
                  "0": "4.2989564"
                },
                {
                  "0": "5.750374"
                },
                {
                  "0": "4.405799"
                },
                {
                  "0": "3.0810773"
                },
                {
                  "0": "4.495191"
                },
                {
                  "0": "3.8077855"
                },
                {
                  "0": "6.9804287"
                },
                {
                  "0": "7.1147146"
                },
                {
                  "0": "2.911922"
                },
                {
                  "0": "3.8214753"
                },
                {
                  "0": "4.042765"
                },
                {
                  "0": "4.831605"
                },
                {
                  "0": "5.150124"
                },
                {
                  "0": "3.8030827"
                },
                {
                  "0": "5.5909457"
                },
                {
                  "0": "6.929671"
                },
                {
                  "0": "3.8925529"
                },
                {
                  "0": "6.6297536"
                },
                {
                  "0": "3.2238958"
                },
                {
                  "0": "4.6979103"
                },
                {
                  "0": "3.5515668"
                },
                {
                  "0": "5.1346173"
                },
                {
                  "0": "7.5683193"
                },
                {
                  "0": "3.8110635"
                },
                {
                  "0": "5.5586615"
                },
                {
                  "0": "4.9702053"
                },
                {
                  "0": "5.756769"
                },
                {
                  "0": "6.447414"
                },
                {
                  "0": "5.5859685"
                },
                {
                  "0": "4.5264463"
                },
                {
                  "0": "2.656605"
                },
                {
                  "0": "2.949863"
                },
                {
                  "0": "6.9361405"
                },
                {
                  "0": "5.7455063"
                },
                {
                  "0": "7.5174475"
                },
                {
                  "0": "7.178885"
                },
                {
                  "0": "6.11158"
                },
                {
                  "0": "6.6956496"
                },
                {
                  "0": "5.3311486"
                },
                {
                  "0": "6.4212184"
                },
                {
                  "0": "5.2985325"
                },
                {
                  "0": "7.3395743"
                },
                {
                  "0": "7.311634"
                },
                {
                  "0": "2.987036"
                },
                {
                  "0": "3.653494"
                },
                {
                  "0": "6.4162097"
                },
                {
                  "0": "5.38282"
                },
                {
                  "0": "8.044856"
                },
                {
                  "0": "7.2161613"
                },
                {
                  "0": "6.4560847"
                },
                {
                  "0": "4.8101864"
                },
                {
                  "0": "2.1400344"
                },
                {
                  "0": "5.5004683"
                },
                {
                  "0": "4.2985253"
                },
                {
                  "0": "3.6785672"
                },
                {
                  "0": "6.3011856"
                },
                {
                  "0": "7.407764"
                },
                {
                  "0": "7.033093"
                },
                {
                  "0": "7.252879"
                },
                {
                  "0": "6.1768565"
                },
                {
                  "0": "3.6340954"
                },
                {
                  "0": "6.4428062"
                },
                {
                  "0": "5.9990797"
                },
                {
                  "0": "7.333697"
                },
                {
                  "0": "3.0237868"
                },
                {
                  "0": "6.2332754"
                },
                {
                  "0": "6.7011094"
                },
                {
                  "0": "2.8902745"
                },
                {
                  "0": "4.372505"
                },
                {
                  "0": "4.033371"
                },
                {
                  "0": "3.1361501"
                },
                {
                  "0": "8.368215"
                },
                {
                  "0": "5.5219874"
                },
                {
                  "0": "4.5883565"
                },
                {
                  "0": "4.749528"
                },
                {
                  "0": "4.3897643"
                },
                {
                  "0": "4.726159"
                },
                {
                  "0": "8.079334"
                },
                {
                  "0": "4.8538437"
                },
                {
                  "0": "4.4698725"
                },
                {
                  "0": "2.5727565"
                },
                {
                  "0": "6.000266"
                },
                {
                  "0": "4.4639516"
                },
                {
                  "0": "4.5330734"
                },
                {
                  "0": "4.096227"
                },
                {
                  "0": "6.2428427"
                },
                {
                  "0": "6.0672255"
                },
                {
                  "0": "5.328116"
                },
                {
                  "0": "4.8169837"
                },
                {
                  "0": "4.223835"
                },
                {
                  "0": "5.0463743"
                },
                {
                  "0": "5.454321"
                },
                {
                  "0": "4.968951"
                },
                {
                  "0": "6.18785"
                },
                {
                  "0": "4.1413"
                },
                {
                  "0": "5.263648"
                },
                {
                  "0": "4.4437823"
                },
                {
                  "0": "5.716725"
                },
                {
                  "0": "2.937327"
                },
                {
                  "0": "3.6578548"
                },
                {
                  "0": "5.6424828"
                },
                {
                  "0": "5.596026"
                },
                {
                  "0": "4.108285"
                },
                {
                  "0": "3.6053648"
                },
                {
                  "0": "2.208233"
                },
                {
                  "0": "4.356517"
                },
                {
                  "0": "5.5659037"
                },
                {
                  "0": "7.7433825"
                },
                {
                  "0": "4.637405"
                },
                {
                  "0": "7.331489"
                },
                {
                  "0": "2.9783869"
                },
                {
                  "0": "6.9213347"
                },
                {
                  "0": "6.347645"
                },
                {
                  "0": "5.880047"
                },
                {
                  "0": "5.5492897"
                },
                {
                  "0": "4.8122478"
                },
                {
                  "0": "5.5932455"
                },
                {
                  "0": "4.139814"
                },
                {
                  "0": "6.4089427"
                },
                {
                  "0": "3.863557"
                },
                {
                  "0": "5.9589386"
                },
                {
                  "0": "6.1063905"
                },
                {
                  "0": "4.856985"
                },
                {
                  "0": "6.009777"
                },
                {
                  "0": "3.586731"
                },
                {
                  "0": "4.0349174"
                },
                {
                  "0": "7.731964"
                },
                {
                  "0": "5.9581246"
                },
                {
                  "0": "7.98074"
                },
                {
                  "0": "4.688516"
                },
                {
                  "0": "6.047872"
                },
                {
                  "0": "5.04556"
                },
                {
                  "0": "2.7242136"
                },
                {
                  "0": "4.9177847"
                },
                {
                  "0": "7.039784"
                },
                {
                  "0": "5.748867"
                },
                {
                  "0": "6.8676667"
                },
                {
                  "0": "4.7650237"
                },
                {
                  "0": "2.9578915"
                },
                {
                  "0": "3.1719463"
                },
                {
                  "0": "6.873231"
                },
                {
                  "0": "6.023154"
                },
                {
                  "0": "5.0548882"
                },
                {
                  "0": "5.786667"
                },
                {
                  "0": "3.949342"
                },
                {
                  "0": "3.974942"
                },
                {
                  "0": "3.1381214"
                },
                {
                  "0": "7.8628173"
                },
                {
                  "0": "2.9770792"
                },
                {
                  "0": "4.5329347"
                },
                {
                  "0": "7.616418"
                },
                {
                  "0": "5.9617357"
                },
                {
                  "0": "5.991766"
                },
                {
                  "0": "4.4339337"
                },
                {
                  "0": "2.3249724"
                },
                {
                  "0": "4.932517"
                },
                {
                  "0": "4.085874"
                },
                {
                  "0": "7.44049"
                },
                {
                  "0": "7.3938594"
                },
                {
                  "0": "6.842812"
                },
                {
                  "0": "5.8166614"
                },
                {
                  "0": "4.714813"
                },
                {
                  "0": "5.0254292"
                },
                {
                  "0": "4.6337614"
                },
                {
                  "0": "6.186632"
                },
                {
                  "0": "5.2377653"
                },
                {
                  "0": "5.7995396"
                },
                {
                  "0": "7.014494"
                },
                {
                  "0": "5.1212564"
                },
                {
                  "0": "4.4637666"
                },
                {
                  "0": "5.4513297"
                },
                {
                  "0": "2.7033598"
                },
                {
                  "0": "4.650044"
                },
                {
                  "0": "3.0641482"
                },
                {
                  "0": "4.247271"
                },
                {
                  "0": "3.326055"
                },
                {
                  "0": "6.605712"
                },
                {
                  "0": "7.5397086"
                },
                {
                  "0": "5.4800096"
                },
                {
                  "0": "6.640829"
                },
                {
                  "0": "4.346496"
                },
                {
                  "0": "5.186402"
                },
                {
                  "0": "5.6251364"
                },
                {
                  "0": "5.45368"
                },
                {
                  "0": "4.269639"
                },
                {
                  "0": "4.345667"
                },
                {
                  "0": "1.9854878"
                },
                {
                  "0": "6.5271935"
                },
                {
                  "0": "5.701686"
                },
                {
                  "0": "2.620722"
                },
                {
                  "0": "5.632576"
                },
                {
                  "0": "5.8449593"
                },
                {
                  "0": "3.7248402"
                },
                {
                  "0": "7.1533713"
                },
                {
                  "0": "4.4001684"
                },
                {
                  "0": "6.4508176"
                },
                {
                  "0": "3.9627452"
                },
                {
                  "0": "5.5604525"
                },
                {
                  "0": "4.868955"
                },
                {
                  "0": "4.5931764"
                },
                {
                  "0": "3.8998747"
                },
                {
                  "0": "6.361577"
                },
                {
                  "0": "3.531257"
                },
                {
                  "0": "6.9606915"
                },
                {
                  "0": "5.588319"
                },
                {
                  "0": "6.9920917"
                },
                {
                  "0": "5.9035354"
                },
                {
                  "0": "5.3940616"
                },
                {
                  "0": "5.42235"
                },
                {
                  "0": "6.0058775"
                },
                {
                  "0": "4.9210467"
                },
                {
                  "0": "4.484317"
                },
                {
                  "0": "4.4823813"
                },
                {
                  "0": "6.619347"
                },
                {
                  "0": "6.518166"
                },
                {
                  "0": "3.347073"
                },
                {
                  "0": "6.304545"
                },
                {
                  "0": "5.606119"
                },
                {
                  "0": "3.47602"
                },
                {
                  "0": "6.315437"
                },
                {
                  "0": "4.886908"
                },
                {
                  "0": "4.7000804"
                },
                {
                  "0": "4.0820994"
                },
                {
                  "0": "7.2077394"
                },
                {
                  "0": "6.7072897"
                },
                {
                  "0": "9.24469"
                },
                {
                  "0": "6.2748733"
                },
                {
                  "0": "5.5056276"
                },
                {
                  "0": "3.8174884"
                },
                {
                  "0": "5.4918857"
                },
                {
                  "0": "5.8215027"
                },
                {
                  "0": "6.267681"
                },
                {
                  "0": "6.8095393"
                },
                {
                  "0": "2.498457"
                },
                {
                  "0": "9.343004"
                },
                {
                  "0": "3.5275695"
                },
                {
                  "0": "7.6978054"
                },
                {
                  "0": "6.0364165"
                },
                {
                  "0": "3.2164092"
                },
                {
                  "0": "5.451827"
                },
                {
                  "0": "6.6290183"
                },
                {
                  "0": "4.5593147"
                },
                {
                  "0": "3.8666306"
                },
                {
                  "0": "3.8777945"
                },
                {
                  "0": "5.4004364"
                },
                {
                  "0": "7.723784"
                },
                {
                  "0": "4.257969"
                },
                {
                  "0": "5.1843386"
                },
                {
                  "0": "7.0007143"
                },
                {
                  "0": "4.144136"
                },
                {
                  "0": "5.8324814"
                },
                {
                  "0": "2.820612"
                },
                {
                  "0": "5.9230704"
                },
                {
                  "0": "6.762765"
                },
                {
                  "0": "4.795332"
                },
                {
                  "0": "5.5827727"
                },
                {
                  "0": "4.27449"
                },
                {
                  "0": "5.4150558"
                },
                {
                  "0": "6.1945124"
                },
                {
                  "0": "7.672938"
                },
                {
                  "0": "7.5852904"
                },
                {
                  "0": "7.876812"
                },
                {
                  "0": "6.0235023"
                },
                {
                  "0": "3.7264802"
                },
                {
                  "0": "6.7778096"
                },
                {
                  "0": "6.2388716"
                },
                {
                  "0": "3.7416573"
                },
                {
                  "0": "2.6914318"
                },
                {
                  "0": "7.088924"
                },
                {
                  "0": "5.3076077"
                },
                {
                  "0": "5.0299172"
                },
                {
                  "0": "6.1491094"
                },
                {
                  "0": "6.669776"
                },
                {
                  "0": "6.3664246"
                },
                {
                  "0": "7.341808"
                },
                {
                  "0": "6.717894"
                },
                {
                  "0": "5.4710245"
                },
                {
                  "0": "7.2177453"
                },
                {
                  "0": "7.0428743"
                },
                {
                  "0": "4.4646893"
                },
                {
                  "0": "7.8477516"
                },
                {
                  "0": "4.6190367"
                },
                {
                  "0": "6.642731"
                },
                {
                  "0": "5.818687"
                },
                {
                  "0": "6.2175593"
                },
                {
                  "0": "6.367269"
                },
                {
                  "0": "4.435837"
                },
                {
                  "0": "4.4860606"
                },
                {
                  "0": "3.300307"
                },
                {
                  "0": "6.269672"
                },
                {
                  "0": "4.0844245"
                },
                {
                  "0": "7.948663"
                },
                {
                  "0": "7.1132646"
                },
                {
                  "0": "5.807194"
                },
                {
                  "0": "2.6041532"
                },
                {
                  "0": "8.137758"
                },
                {
                  "0": "6.2602525"
                },
                {
                  "0": "3.6660786"
                },
                {
                  "0": "5.965655"
                },
                {
                  "0": "7.798298"
                },
                {
                  "0": "6.6079326"
                },
                {
                  "0": "6.4048667"
                },
                {
                  "0": "3.3812635"
                },
                {
                  "0": "5.497889"
                },
                {
                  "0": "6.3566427"
                },
                {
                  "0": "3.5023944"
                },
                {
                  "0": "5.4529533"
                },
                {
                  "0": "6.877981"
                },
                {
                  "0": "5.514368"
                },
                {
                  "0": "7.5951643"
                },
                {
                  "0": "5.9364157"
                },
                {
                  "0": "3.1331923"
                },
                {
                  "0": "6.299364"
                },
                {
                  "0": "7.135462"
                },
                {
                  "0": "6.125738"
                },
                {
                  "0": "3.1946967"
                },
                {
                  "0": "6.925904"
                },
                {
                  "0": "7.06071"
                },
                {
                  "0": "6.3550673"
                },
                {
                  "0": "2.6933632"
                },
                {
                  "0": "4.4848075"
                },
                {
                  "0": "6.6056247"
                },
                {
                  "0": "5.197536"
                },
                {
                  "0": "3.7682803"
                },
                {
                  "0": "8.361291"
                },
                {
                  "0": "2.5875103"
                },
                {
                  "0": "3.7857575"
                },
                {
                  "0": "2.6865962"
                },
                {
                  "0": "4.8083076"
                },
                {
                  "0": "5.5821476"
                },
                {
                  "0": "6.194105"
                },
                {
                  "0": "5.5007195"
                },
                {
                  "0": "5.443494"
                },
                {
                  "0": "6.4886866"
                },
                {
                  "0": "5.1329045"
                },
                {
                  "0": "8.959641"
                },
                {
                  "0": "7.3907857"
                },
                {
                  "0": "3.27147"
                },
                {
                  "0": "4.4672737"
                },
                {
                  "0": "4.486738"
                },
                {
                  "0": "5.8368053"
                },
                {
                  "0": "6.414778"
                },
                {
                  "0": "5.371731"
                },
                {
                  "0": "3.1615794"
                },
                {
                  "0": "2.7246623"
                },
                {
                  "0": "5.1399493"
                },
                {
                  "0": "4.078513"
                },
                {
                  "0": "5.1057444"
                },
                {
                  "0": "5.6346483"
                },
                {
                  "0": "8.070894"
                },
                {
                  "0": "6.1206408"
                },
                {
                  "0": "4.922447"
                },
                {
                  "0": "6.5894527"
                },
                {
                  "0": "5.6039677"
                },
                {
                  "0": "6.1827254"
                },
                {
                  "0": "4.5457873"
                },
                {
                  "0": "4.5600514"
                },
                {
                  "0": "5.2687535"
                },
                {
                  "0": "4.9923997"
                },
                {
                  "0": "3.1897662"
                },
                {
                  "0": "4.2088904"
                },
                {
                  "0": "6.917693"
                },
                {
                  "0": "5.4280844"
                },
                {
                  "0": "6.6125865"
                },
                {
                  "0": "6.0054827"
                },
                {
                  "0": "3.614152"
                },
                {
                  "0": "6.604007"
                },
                {
                  "0": "4.6894526"
                },
                {
                  "0": "2.0438762"
                },
                {
                  "0": "7.4083066"
                },
                {
                  "0": "6.2380376"
                },
                {
                  "0": "6.149016"
                },
                {
                  "0": "5.4998755"
                },
                {
                  "0": "4.472535"
                },
                {
                  "0": "2.0247788"
                },
                {
                  "0": "8.535701"
                },
                {
                  "0": "7.957301"
                },
                {
                  "0": "8.257993"
                },
                {
                  "0": "3.0294292"
                },
                {
                  "0": "2.993968"
                },
                {
                  "0": "4.1781435"
                },
                {
                  "0": "6.4428945"
                },
                {
                  "0": "5.3507867"
                },
                {
                  "0": "5.73007"
                },
                {
                  "0": "4.5565453"
                },
                {
                  "0": "5.1492486"
                },
                {
                  "0": "2.5813036"
                },
                {
                  "0": "5.969922"
                },
                {
                  "0": "6.1251316"
                },
                {
                  "0": "5.5533886"
                },
                {
                  "0": "7.4992833"
                },
                {
                  "0": "5.593307"
                },
                {
                  "0": "4.37338"
                },
                {
                  "0": "2.794982"
                },
                {
                  "0": "6.3545446"
                },
                {
                  "0": "6.370553"
                },
                {
                  "0": "7.064487"
                },
                {
                  "0": "4.2958655"
                },
                {
                  "0": "5.0002146"
                },
                {
                  "0": "4.4806476"
                },
                {
                  "0": "7.7531056"
                },
                {
                  "0": "6.2909513"
                },
                {
                  "0": "3.2513611"
                },
                {
                  "0": "7.271347"
                },
                {
                  "0": "5.8051867"
                },
                {
                  "0": "4.556524"
                },
                {
                  "0": "5.4334474"
                },
                {
                  "0": "2.7847154"
                },
                {
                  "0": "3.8726394"
                },
                {
                  "0": "5.705924"
                },
                {
                  "0": "4.533764"
                },
                {
                  "0": "6.411763"
                },
                {
                  "0": "2.744658"
                },
                {
                  "0": "4.58435"
                },
                {
                  "0": "5.340609"
                },
                {
                  "0": "4.9337673"
                },
                {
                  "0": "4.529717"
                },
                {
                  "0": "8.050346"
                },
                {
                  "0": "2.1078324"
                },
                {
                  "0": "7.170245"
                },
                {
                  "0": "3.6349905"
                },
                {
                  "0": "3.5315063"
                },
                {
                  "0": "6.5900226"
                },
                {
                  "0": "4.2067103"
                },
                {
                  "0": "6.401299"
                },
                {
                  "0": "3.6779838"
                },
                {
                  "0": "6.5630455"
                },
                {
                  "0": "3.4112074"
                },
                {
                  "0": "4.4789104"
                },
                {
                  "0": "2.3931978"
                },
                {
                  "0": "6.8380065"
                },
                {
                  "0": "6.57458"
                },
                {
                  "0": "6.507975"
                },
                {
                  "0": "5.1688356"
                },
                {
                  "0": "7.3391256"
                },
                {
                  "0": "4.6722445"
                },
                {
                  "0": "6.269032"
                },
                {
                  "0": "4.89633"
                },
                {
                  "0": "3.1568394"
                },
                {
                  "0": "2.2812912"
                },
                {
                  "0": "6.7458596"
                },
                {
                  "0": "6.333478"
                },
                {
                  "0": "4.386312"
                },
                {
                  "0": "7.7084594"
                },
                {
                  "0": "6.412722"
                },
                {
                  "0": "6.4802775"
                },
                {
                  "0": "6.033766"
                },
                {
                  "0": "4.844464"
                },
                {
                  "0": "5.173606"
                },
                {
                  "0": "3.067753"
                },
                {
                  "0": "3.5919285"
                },
                {
                  "0": "4.4528084"
                },
                {
                  "0": "4.814251"
                },
                {
                  "0": "5.0656023"
                },
                {
                  "0": "6.9297843"
                },
                {
                  "0": "7.196062"
                },
                {
                  "0": "4.6927633"
                },
                {
                  "0": "5.292819"
                },
                {
                  "0": "6.3062716"
                },
                {
                  "0": "4.1120358"
                },
                {
                  "0": "3.3394902"
                },
                {
                  "0": "7.540176"
                },
                {
                  "0": "4.9674077"
                },
                {
                  "0": "6.170638"
                },
                {
                  "0": "7.689161"
                },
                {
                  "0": "7.4245043"
                },
                {
                  "0": "5.457142"
                },
                {
                  "0": "3.5184526"
                },
                {
                  "0": "6.6371145"
                },
                {
                  "0": "5.0742493"
                },
                {
                  "0": "7.1160955"
                },
                {
                  "0": "4.8464284"
                },
                {
                  "0": "4.7775526"
                },
                {
                  "0": "4.9110265"
                },
                {
                  "0": "5.4777656"
                },
                {
                  "0": "8.363357"
                },
                {
                  "0": "3.5701659"
                },
                {
                  "0": "6.0380673"
                },
                {
                  "0": "6.179694"
                },
                {
                  "0": "6.1407223"
                },
                {
                  "0": "1.9065899"
                },
                {
                  "0": "6.6108413"
                },
                {
                  "0": "6.7864017"
                },
                {
                  "0": "4.0171156"
                },
                {
                  "0": "7.3124723"
                },
                {
                  "0": "6.550293"
                },
                {
                  "0": "6.728086"
                },
                {
                  "0": "3.190477"
                },
                {
                  "0": "4.7333064"
                },
                {
                  "0": "2.90716"
                },
                {
                  "0": "5.386098"
                },
                {
                  "0": "4.929655"
                },
                {
                  "0": "5.4503274"
                },
                {
                  "0": "5.0015006"
                },
                {
                  "0": "7.8446693"
                },
                {
                  "0": "6.075585"
                },
                {
                  "0": "7.4872203"
                },
                {
                  "0": "7.86028"
                },
                {
                  "0": "4.4739957"
                },
                {
                  "0": "4.6316957"
                },
                {
                  "0": "6.5018816"
                },
                {
                  "0": "6.332585"
                },
                {
                  "0": "5.5097957"
                },
                {
                  "0": "6.447947"
                },
                {
                  "0": "9.006623"
                },
                {
                  "0": "6.237588"
                },
                {
                  "0": "5.119529"
                },
                {
                  "0": "5.54026"
                },
                {
                  "0": "3.1262078"
                },
                {
                  "0": "4.005849"
                },
                {
                  "0": "5.778995"
                },
                {
                  "0": "7.054358"
                },
                {
                  "0": "4.1619706"
                },
                {
                  "0": "4.491867"
                },
                {
                  "0": "4.4180336"
                },
                {
                  "0": "3.9021559"
                },
                {
                  "0": "5.75394"
                },
                {
                  "0": "7.756131"
                },
                {
                  "0": "4.7884765"
                },
                {
                  "0": "2.5344205"
                },
                {
                  "0": "4.9122934"
                },
                {
                  "0": "5.5477304"
                },
                {
                  "0": "5.91368"
                },
                {
                  "0": "5.31453"
                },
                {
                  "0": "8.070037"
                },
                {
                  "0": "5.389561"
                },
                {
                  "0": "4.6996307"
                },
                {
                  "0": "6.3894463"
                },
                {
                  "0": "6.5734887"
                },
                {
                  "0": "7.0444603"
                },
                {
                  "0": "8.311802"
                },
                {
                  "0": "7.648533"
                },
                {
                  "0": "2.701467"
                },
                {
                  "0": "5.920058"
                },
                {
                  "0": "7.8351526"
                },
                {
                  "0": "8.854857"
                },
                {
                  "0": "3.9256854"
                },
                {
                  "0": "3.399667"
                },
                {
                  "0": "5.036525"
                },
                {
                  "0": "3.8921695"
                },
                {
                  "0": "2.8248427"
                },
                {
                  "0": "4.9848747"
                },
                {
                  "0": "7.8136992"
                },
                {
                  "0": "5.251965"
                },
                {
                  "0": "5.1758766"
                },
                {
                  "0": "6.097869"
                },
                {
                  "0": "5.6298633"
                },
                {
                  "0": "3.324335"
                },
                {
                  "0": "8.912131"
                },
                {
                  "0": "7.185965"
                },
                {
                  "0": "4.229381"
                },
                {
                  "0": "6.5064445"
                },
                {
                  "0": "5.0761137"
                },
                {
                  "0": "2.4735813"
                },
                {
                  "0": "8.8386965"
                },
                {
                  "0": "7.5859103"
                },
                {
                  "0": "5.4384317"
                },
                {
                  "0": "5.4435983"
                },
                {
                  "0": "5.802922"
                },
                {
                  "0": "4.344651"
                },
                {
                  "0": "4.6530905"
                },
                {
                  "0": "4.29011"
                },
                {
                  "0": "6.1723228"
                },
                {
                  "0": "5.4976153"
                },
                {
                  "0": "7.2037077"
                },
                {
                  "0": "5.6902423"
                },
                {
                  "0": "4.0247855"
                },
                {
                  "0": "2.2827008"
                },
                {
                  "0": "5.5056868"
                },
                {
                  "0": "5.9980493"
                },
                {
                  "0": "6.8980174"
                },
                {
                  "0": "3.7130673"
                },
                {
                  "0": "5.1411304"
                },
                {
                  "0": "5.6756473"
                },
                {
                  "0": "7.118942"
                },
                {
                  "0": "2.8149226"
                },
                {
                  "0": "5.828452"
                },
                {
                  "0": "5.1577945"
                },
                {
                  "0": "8.03231"
                },
                {
                  "0": "7.844823"
                },
                {
                  "0": "5.4468827"
                },
                {
                  "0": "2.6178927"
                },
                {
                  "0": "5.9538693"
                },
                {
                  "0": "6.8794603"
                },
                {
                  "0": "8.112874"
                },
                {
                  "0": "6.5536966"
                },
                {
                  "0": "4.5774374"
                },
                {
                  "0": "6.6006"
                },
                {
                  "0": "7.9827747"
                },
                {
                  "0": "4.3792624"
                },
                {
                  "0": "3.1637838"
                },
                {
                  "0": "6.940754"
                },
                {
                  "0": "4.335267"
                },
                {
                  "0": "6.9930634"
                },
                {
                  "0": "4.8611126"
                },
                {
                  "0": "6.9320836"
                },
                {
                  "0": "5.1204357"
                },
                {
                  "0": "3.4481199"
                },
                {
                  "0": "5.8552823"
                },
                {
                  "0": "3.0957425"
                },
                {
                  "0": "4.676041"
                },
                {
                  "0": "4.2339926"
                },
                {
                  "0": "6.4643455"
                },
                {
                  "0": "5.112079"
                },
                {
                  "0": "4.327975"
                },
                {
                  "0": "3.6066353"
                },
                {
                  "0": "4.4594607"
                },
                {
                  "0": "3.1478078"
                },
                {
                  "0": "7.334201"
                },
                {
                  "0": "7.0095587"
                },
                {
                  "0": "5.817594"
                },
                {
                  "0": "4.447032"
                },
                {
                  "0": "4.8058443"
                },
                {
                  "0": "3.6955256"
                },
                {
                  "0": "2.3964496"
                },
                {
                  "0": "4.25391"
                },
                {
                  "0": "5.8152027"
                },
                {
                  "0": "6.645953"
                },
                {
                  "0": "5.7808924"
                },
                {
                  "0": "8.140547"
                },
                {
                  "0": "7.952549"
                },
                {
                  "0": "2.863599"
                },
                {
                  "0": "6.6616187"
                },
                {
                  "0": "3.2987165"
                },
                {
                  "0": "7.7920475"
                },
                {
                  "0": "7.6980834"
                },
                {
                  "0": "5.3121505"
                },
                {
                  "0": "6.21876"
                },
                {
                  "0": "8.835418"
                },
                {
                  "0": "4.4913"
                },
                {
                  "0": "6.6166606"
                },
                {
                  "0": "4.1465607"
                },
                {
                  "0": "6.0986366"
                },
                {
                  "0": "7.064116"
                },
                {
                  "0": "6.162765"
                },
                {
                  "0": "7.1202736"
                },
                {
                  "0": "4.921127"
                },
                {
                  "0": "3.6398287"
                },
                {
                  "0": "5.0177336"
                },
                {
                  "0": "6.2128587"
                },
                {
                  "0": "5.950243"
                },
                {
                  "0": "4.999807"
                },
                {
                  "0": "4.171736"
                },
                {
                  "0": "5.2000523"
                },
                {
                  "0": "5.867172"
                },
                {
                  "0": "5.0885324"
                },
                {
                  "0": "4.3240237"
                },
                {
                  "0": "7.449728"
                },
                {
                  "0": "5.2285604"
                },
                {
                  "0": "4.8822203"
                },
                {
                  "0": "6.7499404"
                },
                {
                  "0": "4.1331415"
                },
                {
                  "0": "2.874378"
                },
                {
                  "0": "6.152189"
                },
                {
                  "0": "6.270806"
                },
                {
                  "0": "6.87121"
                },
                {
                  "0": "7.7784843"
                },
                {
                  "0": "6.203441"
                },
                {
                  "0": "8.879251"
                },
                {
                  "0": "4.7911253"
                },
                {
                  "0": "4.624357"
                },
                {
                  "0": "4.8338675"
                },
                {
                  "0": "6.3397183"
                },
                {
                  "0": "6.772915"
                },
                {
                  "0": "4.530858"
                },
                {
                  "0": "6.753139"
                },
                {
                  "0": "5.334196"
                },
                {
                  "0": "6.773519"
                },
                {
                  "0": "5.1076274"
                },
                {
                  "0": "6.075755"
                },
                {
                  "0": "3.4045703"
                },
                {
                  "0": "6.190449"
                },
                {
                  "0": "7.1966805"
                },
                {
                  "0": "2.7709022"
                },
                {
                  "0": "5.927084"
                },
                {
                  "0": "6.453577"
                },
                {
                  "0": "5.938337"
                },
                {
                  "0": "4.9758773"
                },
                {
                  "0": "7.291211"
                },
                {
                  "0": "6.896077"
                },
                {
                  "0": "5.986753"
                },
                {
                  "0": "6.930744"
                },
                {
                  "0": "6.631045"
                },
                {
                  "0": "5.1263757"
                },
                {
                  "0": "4.283188"
                },
                {
                  "0": "3.4252377"
                },
                {
                  "0": "5.8869395"
                },
                {
                  "0": "6.7213273"
                },
                {
                  "0": "6.6849923"
                },
                {
                  "0": "3.4548473"
                },
                {
                  "0": "5.4955425"
                },
                {
                  "0": "7.116868"
                },
                {
                  "0": "4.483257"
                },
                {
                  "0": "5.4934626"
                },
                {
                  "0": "6.060815"
                },
                {
                  "0": "6.298103"
                },
                {
                  "0": "7.097526"
                },
                {
                  "0": "7.410653"
                },
                {
                  "0": "7.6465254"
                },
                {
                  "0": "5.981282"
                },
                {
                  "0": "3.6662152"
                },
                {
                  "0": "3.8943608"
                },
                {
                  "0": "4.022863"
                },
                {
                  "0": "3.9547808"
                },
                {
                  "0": "7.664246"
                },
                {
                  "0": "6.40971"
                },
                {
                  "0": "5.6521115"
                },
                {
                  "0": "5.624225"
                },
                {
                  "0": "6.88541"
                },
                {
                  "0": "7.3353157"
                },
                {
                  "0": "3.7745042"
                },
                {
                  "0": "2.9729965"
                },
                {
                  "0": "6.1046896"
                },
                {
                  "0": "6.1318994"
                },
                {
                  "0": "6.745658"
                },
                {
                  "0": "7.616318"
                },
                {
                  "0": "5.533354"
                },
                {
                  "0": "4.7615695"
                },
                {
                  "0": "5.8252196"
                },
                {
                  "0": "5.5647273"
                },
                {
                  "0": "6.9869614"
                },
                {
                  "0": "4.8220644"
                },
                {
                  "0": "7.0917406"
                },
                {
                  "0": "8.427833"
                },
                {
                  "0": "5.9576125"
                },
                {
                  "0": "6.9233603"
                },
                {
                  "0": "7.0111427"
                },
                {
                  "0": "7.498374"
                },
                {
                  "0": "3.8596802"
                },
                {
                  "0": "6.2366138"
                },
                {
                  "0": "4.0956125"
                },
                {
                  "0": "4.4818974"
                },
                {
                  "0": "6.9047523"
                },
                {
                  "0": "7.1469502"
                },
                {
                  "0": "4.348762"
                },
                {
                  "0": "4.470515"
                },
                {
                  "0": "3.2237546"
                },
                {
                  "0": "4.788119"
                },
                {
                  "0": "6.243159"
                },
                {
                  "0": "7.003025"
                },
                {
                  "0": "5.8121104"
                },
                {
                  "0": "5.825823"
                },
                {
                  "0": "5.933164"
                },
                {
                  "0": "6.495698"
                },
                {
                  "0": "4.623844"
                },
                {
                  "0": "5.762465"
                },
                {
                  "0": "4.858026"
                },
                {
                  "0": "7.295195"
                },
                {
                  "0": "5.81961"
                },
                {
                  "0": "2.4534137"
                },
                {
                  "0": "5.31516"
                },
                {
                  "0": "7.0772266"
                },
                {
                  "0": "9.353702"
                },
                {
                  "0": "3.9776893"
                },
                {
                  "0": "5.1730256"
                },
                {
                  "0": "4.8276114"
                },
                {
                  "0": "6.7555923"
                },
                {
                  "0": "8.850607"
                },
                {
                  "0": "4.658825"
                },
                {
                  "0": "6.1304493"
                },
                {
                  "0": "4.9738355"
                },
                {
                  "0": "8.237683"
                },
                {
                  "0": "5.9218864"
                },
                {
                  "0": "5.153865"
                },
                {
                  "0": "4.1816397"
                },
                {
                  "0": "2.2129076"
                },
                {
                  "0": "2.8767178"
                },
                {
                  "0": "4.3922706"
                },
                {
                  "0": "6.717241"
                },
                {
                  "0": "3.8440366"
                },
                {
                  "0": "2.9797857"
                },
                {
                  "0": "7.8996577"
                },
                {
                  "0": "8.082594"
                },
                {
                  "0": "5.5860143"
                },
                {
                  "0": "3.2499394"
                },
                {
                  "0": "4.9049816"
                },
                {
                  "0": "7.836641"
                },
                {
                  "0": "6.7185388"
                },
                {
                  "0": "5.4749417"
                },
                {
                  "0": "6.610069"
                },
                {
                  "0": "3.7004278"
                },
                {
                  "0": "2.2993097"
                },
                {
                  "0": "3.5750828"
                },
                {
                  "0": "4.496174"
                },
                {
                  "0": "5.4592037"
                },
                {
                  "0": "4.645033"
                },
                {
                  "0": "6.489029"
                },
                {
                  "0": "5.3697605"
                },
                {
                  "0": "6.2327785"
                },
                {
                  "0": "4.676057"
                },
                {
                  "0": "3.4152265"
                },
                {
                  "0": "4.6091967"
                },
                {
                  "0": "7.3600516"
                },
                {
                  "0": "5.680822"
                },
                {
                  "0": "5.889908"
                },
                {
                  "0": "6.6404004"
                },
                {
                  "0": "4.1127915"
                },
                {
                  "0": "2.4494045"
                },
                {
                  "0": "3.7525618"
                },
                {
                  "0": "7.0301437"
                }
              ],
              "schema": [
                {
                  "key": "0",
                  "name": "mean",
                  "type": "float"
                }
              ],
              "truncated": false
            },
            "isSummary": false,
            "language": "scala"
          },
          "persist_state": {
            "view": {
              "type": "details",
              "tableOptions": {},
              "chartOptions": {
                "chartType": "bar",
                "aggregationType": "sum",
                "categoryFieldKeys": [],
                "seriesFieldKeys": [
                  "0"
                ],
                "isStacked": false
              }
            }
          }
        }
      }
    }
  },
  "nbformat": 4,
  "nbformat_minor": 2
}