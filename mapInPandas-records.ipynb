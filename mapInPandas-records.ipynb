{
  "cells": [
    {
      "cell_type": "code",
      "source": [
        "from pyspark.sql.functions import pandas_udf\r\n",
        "from pyspark.sql.types import StructField, FloatType, StructType\r\n",
        "import pandas as pd\r\n",
        "import numpy as np\r\n",
        "from numpy import random\r\n",
        "import time"
      ],
      "outputs": [
        {
          "output_type": "display_data",
          "data": {
            "application/vnd.livy.statement-meta+json": {
              "spark_pool": "large",
              "session_id": "11",
              "statement_id": 23,
              "state": "finished",
              "livy_statement_state": "available",
              "queued_time": "2022-11-06T14:03:16.6536986Z",
              "session_start_time": null,
              "execution_start_time": "2022-11-06T14:03:16.7869142Z",
              "execution_finish_time": "2022-11-06T14:03:16.9648317Z",
              "spark_jobs": null
            },
            "text/plain": "StatementMeta(large, 11, 23, Finished, Available)"
          },
          "metadata": {}
        }
      ],
      "execution_count": 23,
      "metadata": {
        "jupyter": {
          "source_hidden": false,
          "outputs_hidden": false
        },
        "nteract": {
          "transient": {
            "deleting": false
          }
        }
      }
    },
    {
      "cell_type": "code",
      "source": [
        "one_m = 1000000\r\n",
        "num_records_m = 10\r\n",
        "num_records = num_records_m * one_m"
      ],
      "outputs": [
        {
          "output_type": "display_data",
          "data": {
            "application/vnd.livy.statement-meta+json": {
              "spark_pool": "large",
              "session_id": "11",
              "statement_id": 24,
              "state": "finished",
              "livy_statement_state": "available",
              "queued_time": "2022-11-06T14:03:16.7071Z",
              "session_start_time": null,
              "execution_start_time": "2022-11-06T14:03:17.117871Z",
              "execution_finish_time": "2022-11-06T14:03:17.2944403Z",
              "spark_jobs": null
            },
            "text/plain": "StatementMeta(large, 11, 24, Finished, Available)"
          },
          "metadata": {}
        }
      ],
      "execution_count": 24,
      "metadata": {
        "jupyter": {
          "source_hidden": false,
          "outputs_hidden": false
        },
        "nteract": {
          "transient": {
            "deleting": false
          }
        }
      }
    },
    {
      "cell_type": "code",
      "source": [
        "def simple_numpy_calc(narr):\r\n",
        "    return np.array([np.mean(x) for x in narr])"
      ],
      "outputs": [
        {
          "output_type": "display_data",
          "data": {
            "application/vnd.livy.statement-meta+json": {
              "spark_pool": "large",
              "session_id": "11",
              "statement_id": 25,
              "state": "finished",
              "livy_statement_state": "available",
              "queued_time": "2022-11-06T14:03:16.7510234Z",
              "session_start_time": null,
              "execution_start_time": "2022-11-06T14:03:17.4142799Z",
              "execution_finish_time": "2022-11-06T14:03:17.6504269Z",
              "spark_jobs": null
            },
            "text/plain": "StatementMeta(large, 11, 25, Finished, Available)"
          },
          "metadata": {}
        }
      ],
      "execution_count": 25,
      "metadata": {
        "jupyter": {
          "source_hidden": false,
          "outputs_hidden": false
        },
        "nteract": {
          "transient": {
            "deleting": false
          }
        }
      }
    },
    {
      "cell_type": "markdown",
      "source": [
        "## Show the logic over 5 records"
      ],
      "metadata": {
        "nteract": {
          "transient": {
            "deleting": false
          }
        }
      }
    },
    {
      "cell_type": "code",
      "source": [
        "pdf=pd.DataFrame([tuple(random.uniform(1,10,3)) for i in range(5)], columns=[\"x\", \"y\",\"z\"])\r\n",
        "pdf\r\n"
      ],
      "outputs": [
        {
          "output_type": "display_data",
          "data": {
            "application/vnd.livy.statement-meta+json": {
              "spark_pool": "large",
              "session_id": "11",
              "statement_id": 26,
              "state": "finished",
              "livy_statement_state": "available",
              "queued_time": "2022-11-06T14:03:16.8530659Z",
              "session_start_time": null,
              "execution_start_time": "2022-11-06T14:03:17.7704628Z",
              "execution_finish_time": "2022-11-06T14:03:17.951088Z",
              "spark_jobs": null
            },
            "text/plain": "StatementMeta(large, 11, 26, Finished, Available)"
          },
          "metadata": {}
        },
        {
          "output_type": "execute_result",
          "execution_count": 82,
          "data": {
            "text/plain": "          x         y         z\n0  6.408064  7.358587  4.508358\n1  4.405009  7.316064  7.392700\n2  3.470467  5.045778  6.769630\n3  2.108697  6.536130  5.291473\n4  1.588373  4.657182  3.064074",
            "text/html": "<div>\n<style scoped>\n    .dataframe tbody tr th:only-of-type {\n        vertical-align: middle;\n    }\n\n    .dataframe tbody tr th {\n        vertical-align: top;\n    }\n\n    .dataframe thead th {\n        text-align: right;\n    }\n</style>\n<table border=\"1\" class=\"dataframe\">\n  <thead>\n    <tr style=\"text-align: right;\">\n      <th></th>\n      <th>x</th>\n      <th>y</th>\n      <th>z</th>\n    </tr>\n  </thead>\n  <tbody>\n    <tr>\n      <th>0</th>\n      <td>6.408064</td>\n      <td>7.358587</td>\n      <td>4.508358</td>\n    </tr>\n    <tr>\n      <th>1</th>\n      <td>4.405009</td>\n      <td>7.316064</td>\n      <td>7.392700</td>\n    </tr>\n    <tr>\n      <th>2</th>\n      <td>3.470467</td>\n      <td>5.045778</td>\n      <td>6.769630</td>\n    </tr>\n    <tr>\n      <th>3</th>\n      <td>2.108697</td>\n      <td>6.536130</td>\n      <td>5.291473</td>\n    </tr>\n    <tr>\n      <th>4</th>\n      <td>1.588373</td>\n      <td>4.657182</td>\n      <td>3.064074</td>\n    </tr>\n  </tbody>\n</table>\n</div>"
          },
          "metadata": {}
        }
      ],
      "execution_count": 26,
      "metadata": {
        "jupyter": {
          "source_hidden": false,
          "outputs_hidden": false
        },
        "nteract": {
          "transient": {
            "deleting": false
          }
        }
      }
    },
    {
      "cell_type": "code",
      "source": [
        "arr = pdf[:100].to_numpy()\r\n",
        "arr"
      ],
      "outputs": [
        {
          "output_type": "display_data",
          "data": {
            "application/vnd.livy.statement-meta+json": {
              "spark_pool": "large",
              "session_id": "11",
              "statement_id": 27,
              "state": "finished",
              "livy_statement_state": "available",
              "queued_time": "2022-11-06T14:03:16.9578198Z",
              "session_start_time": null,
              "execution_start_time": "2022-11-06T14:03:18.0744366Z",
              "execution_finish_time": "2022-11-06T14:03:18.3418875Z",
              "spark_jobs": null
            },
            "text/plain": "StatementMeta(large, 11, 27, Finished, Available)"
          },
          "metadata": {}
        },
        {
          "output_type": "execute_result",
          "execution_count": 85,
          "data": {
            "text/plain": "array([[6.4080642 , 7.35858678, 4.50835829],\n       [4.40500907, 7.31606429, 7.39270004],\n       [3.47046724, 5.04577795, 6.76962958],\n       [2.1086974 , 6.53612977, 5.29147271],\n       [1.58837302, 4.65718193, 3.06407448]])"
          },
          "metadata": {}
        }
      ],
      "execution_count": 27,
      "metadata": {
        "jupyter": {
          "source_hidden": false,
          "outputs_hidden": false
        },
        "nteract": {
          "transient": {
            "deleting": false
          }
        }
      }
    },
    {
      "cell_type": "code",
      "source": [
        "mean_arr = simple_numpy_calc(arr)\r\n",
        "mean_arr"
      ],
      "outputs": [
        {
          "output_type": "display_data",
          "data": {
            "application/vnd.livy.statement-meta+json": {
              "spark_pool": "large",
              "session_id": "11",
              "statement_id": 28,
              "state": "finished",
              "livy_statement_state": "available",
              "queued_time": "2022-11-06T14:03:17.016412Z",
              "session_start_time": null,
              "execution_start_time": "2022-11-06T14:03:18.4629145Z",
              "execution_finish_time": "2022-11-06T14:03:18.648837Z",
              "spark_jobs": null
            },
            "text/plain": "StatementMeta(large, 11, 28, Finished, Available)"
          },
          "metadata": {}
        },
        {
          "output_type": "execute_result",
          "execution_count": 88,
          "data": {
            "text/plain": "array([6.09166976, 6.3712578 , 5.09529159, 4.64543329, 3.10320981])"
          },
          "metadata": {}
        }
      ],
      "execution_count": 28,
      "metadata": {
        "jupyter": {
          "source_hidden": false,
          "outputs_hidden": false
        },
        "nteract": {
          "transient": {
            "deleting": false
          }
        }
      }
    },
    {
      "cell_type": "code",
      "source": [
        "pdf[\"mean\"]=mean_arr\r\n",
        "pdf"
      ],
      "outputs": [
        {
          "output_type": "display_data",
          "data": {
            "application/vnd.livy.statement-meta+json": {
              "spark_pool": "large",
              "session_id": "11",
              "statement_id": 29,
              "state": "finished",
              "livy_statement_state": "available",
              "queued_time": "2022-11-06T14:03:17.0686093Z",
              "session_start_time": null,
              "execution_start_time": "2022-11-06T14:03:18.932964Z",
              "execution_finish_time": "2022-11-06T14:03:19.1026286Z",
              "spark_jobs": null
            },
            "text/plain": "StatementMeta(large, 11, 29, Finished, Available)"
          },
          "metadata": {}
        },
        {
          "output_type": "execute_result",
          "execution_count": 91,
          "data": {
            "text/plain": "          x         y         z      mean\n0  6.408064  7.358587  4.508358  6.091670\n1  4.405009  7.316064  7.392700  6.371258\n2  3.470467  5.045778  6.769630  5.095292\n3  2.108697  6.536130  5.291473  4.645433\n4  1.588373  4.657182  3.064074  3.103210",
            "text/html": "<div>\n<style scoped>\n    .dataframe tbody tr th:only-of-type {\n        vertical-align: middle;\n    }\n\n    .dataframe tbody tr th {\n        vertical-align: top;\n    }\n\n    .dataframe thead th {\n        text-align: right;\n    }\n</style>\n<table border=\"1\" class=\"dataframe\">\n  <thead>\n    <tr style=\"text-align: right;\">\n      <th></th>\n      <th>x</th>\n      <th>y</th>\n      <th>z</th>\n      <th>mean</th>\n    </tr>\n  </thead>\n  <tbody>\n    <tr>\n      <th>0</th>\n      <td>6.408064</td>\n      <td>7.358587</td>\n      <td>4.508358</td>\n      <td>6.091670</td>\n    </tr>\n    <tr>\n      <th>1</th>\n      <td>4.405009</td>\n      <td>7.316064</td>\n      <td>7.392700</td>\n      <td>6.371258</td>\n    </tr>\n    <tr>\n      <th>2</th>\n      <td>3.470467</td>\n      <td>5.045778</td>\n      <td>6.769630</td>\n      <td>5.095292</td>\n    </tr>\n    <tr>\n      <th>3</th>\n      <td>2.108697</td>\n      <td>6.536130</td>\n      <td>5.291473</td>\n      <td>4.645433</td>\n    </tr>\n    <tr>\n      <th>4</th>\n      <td>1.588373</td>\n      <td>4.657182</td>\n      <td>3.064074</td>\n      <td>3.103210</td>\n    </tr>\n  </tbody>\n</table>\n</div>"
          },
          "metadata": {}
        }
      ],
      "execution_count": 29,
      "metadata": {
        "jupyter": {
          "source_hidden": false,
          "outputs_hidden": false
        },
        "nteract": {
          "transient": {
            "deleting": false
          }
        }
      }
    },
    {
      "cell_type": "markdown",
      "source": [
        "## Doing it in Python (Pandas/Numpy)"
      ],
      "metadata": {
        "nteract": {
          "transient": {
            "deleting": false
          }
        }
      }
    },
    {
      "cell_type": "code",
      "source": [
        "pdf=pd.DataFrame([tuple(random.uniform(1,10,3)) for i in range(num_records)], columns=[\"x\", \"y\",\"z\"])\r\n",
        "print(f\"{len(pdf)/one_m} M\")\r\n",
        "pdf[:3]\r\n"
      ],
      "outputs": [
        {
          "output_type": "display_data",
          "data": {
            "application/vnd.livy.statement-meta+json": {
              "spark_pool": "large",
              "session_id": "11",
              "statement_id": 30,
              "state": "finished",
              "livy_statement_state": "available",
              "queued_time": "2022-11-06T14:03:17.1398349Z",
              "session_start_time": null,
              "execution_start_time": "2022-11-06T14:03:19.236644Z",
              "execution_finish_time": "2022-11-06T14:04:04.2878221Z",
              "spark_jobs": null
            },
            "text/plain": "StatementMeta(large, 11, 30, Finished, Available)"
          },
          "metadata": {}
        },
        {
          "output_type": "stream",
          "name": "stdout",
          "text": [
            "10.0 M\n"
          ]
        },
        {
          "output_type": "execute_result",
          "execution_count": 94,
          "data": {
            "text/plain": "          x         y         z\n0  4.793687  3.704907  5.944925\n1  9.207575  9.932247  8.183925\n2  9.628982  1.771443  6.662008",
            "text/html": "<div>\n<style scoped>\n    .dataframe tbody tr th:only-of-type {\n        vertical-align: middle;\n    }\n\n    .dataframe tbody tr th {\n        vertical-align: top;\n    }\n\n    .dataframe thead th {\n        text-align: right;\n    }\n</style>\n<table border=\"1\" class=\"dataframe\">\n  <thead>\n    <tr style=\"text-align: right;\">\n      <th></th>\n      <th>x</th>\n      <th>y</th>\n      <th>z</th>\n    </tr>\n  </thead>\n  <tbody>\n    <tr>\n      <th>0</th>\n      <td>4.793687</td>\n      <td>3.704907</td>\n      <td>5.944925</td>\n    </tr>\n    <tr>\n      <th>1</th>\n      <td>9.207575</td>\n      <td>9.932247</td>\n      <td>8.183925</td>\n    </tr>\n    <tr>\n      <th>2</th>\n      <td>9.628982</td>\n      <td>1.771443</td>\n      <td>6.662008</td>\n    </tr>\n  </tbody>\n</table>\n</div>"
          },
          "metadata": {}
        }
      ],
      "execution_count": 30,
      "metadata": {
        "jupyter": {
          "source_hidden": false,
          "outputs_hidden": false
        },
        "nteract": {
          "transient": {
            "deleting": false
          }
        }
      }
    },
    {
      "cell_type": "code",
      "source": [
        "start = time.time()\r\n",
        "arr = pdf.to_numpy()\r\n",
        "mean_arr = simple_numpy_calc(arr)\r\n",
        "pdf[\"mean\"]=mean_arr\r\n",
        "print(f\"Run in {time.time()-start} seconds\")\r\n",
        "pdf[:3]"
      ],
      "outputs": [
        {
          "output_type": "display_data",
          "data": {
            "application/vnd.livy.statement-meta+json": {
              "spark_pool": "large",
              "session_id": "11",
              "statement_id": 31,
              "state": "finished",
              "livy_statement_state": "available",
              "queued_time": "2022-11-06T14:03:17.2701609Z",
              "session_start_time": null,
              "execution_start_time": "2022-11-06T14:04:04.4104665Z",
              "execution_finish_time": "2022-11-06T14:05:01.3032445Z",
              "spark_jobs": null
            },
            "text/plain": "StatementMeta(large, 11, 31, Finished, Available)"
          },
          "metadata": {}
        },
        {
          "output_type": "stream",
          "name": "stdout",
          "text": [
            "Run in 55.66557192802429 seconds\n"
          ]
        },
        {
          "output_type": "execute_result",
          "execution_count": 97,
          "data": {
            "text/plain": "          x         y         z      mean\n0  4.793687  3.704907  5.944925  4.814506\n1  9.207575  9.932247  8.183925  9.107916\n2  9.628982  1.771443  6.662008  6.020811",
            "text/html": "<div>\n<style scoped>\n    .dataframe tbody tr th:only-of-type {\n        vertical-align: middle;\n    }\n\n    .dataframe tbody tr th {\n        vertical-align: top;\n    }\n\n    .dataframe thead th {\n        text-align: right;\n    }\n</style>\n<table border=\"1\" class=\"dataframe\">\n  <thead>\n    <tr style=\"text-align: right;\">\n      <th></th>\n      <th>x</th>\n      <th>y</th>\n      <th>z</th>\n      <th>mean</th>\n    </tr>\n  </thead>\n  <tbody>\n    <tr>\n      <th>0</th>\n      <td>4.793687</td>\n      <td>3.704907</td>\n      <td>5.944925</td>\n      <td>4.814506</td>\n    </tr>\n    <tr>\n      <th>1</th>\n      <td>9.207575</td>\n      <td>9.932247</td>\n      <td>8.183925</td>\n      <td>9.107916</td>\n    </tr>\n    <tr>\n      <th>2</th>\n      <td>9.628982</td>\n      <td>1.771443</td>\n      <td>6.662008</td>\n      <td>6.020811</td>\n    </tr>\n  </tbody>\n</table>\n</div>"
          },
          "metadata": {}
        }
      ],
      "execution_count": 31,
      "metadata": {
        "jupyter": {
          "source_hidden": false,
          "outputs_hidden": false
        },
        "nteract": {
          "transient": {
            "deleting": false
          }
        }
      }
    },
    {
      "cell_type": "markdown",
      "source": [
        "## Doing it at scale in Spark"
      ],
      "metadata": {
        "nteract": {
          "transient": {
            "deleting": false
          }
        }
      }
    },
    {
      "cell_type": "markdown",
      "source": [
        "Creating a Spark dataframe and repartition over 100 partitions"
      ],
      "metadata": {
        "nteract": {
          "transient": {
            "deleting": false
          }
        }
      }
    },
    {
      "cell_type": "code",
      "source": [
        "df=spark.createDataFrame(pdf)\r\n",
        "assert df.count()==num_records\r\n",
        "display(df.limit(3))\r\n"
      ],
      "outputs": [
        {
          "output_type": "display_data",
          "data": {
            "application/vnd.livy.statement-meta+json": {
              "spark_pool": "large",
              "session_id": "11",
              "statement_id": 32,
              "state": "finished",
              "livy_statement_state": "available",
              "queued_time": "2022-11-06T14:03:17.3909101Z",
              "session_start_time": null,
              "execution_start_time": "2022-11-06T14:05:01.4952294Z",
              "execution_finish_time": "2022-11-06T14:05:04.512742Z",
              "spark_jobs": null
            },
            "text/plain": "StatementMeta(large, 11, 32, Finished, Available)"
          },
          "metadata": {}
        },
        {
          "output_type": "display_data",
          "data": {
            "application/vnd.synapse.widget-view+json": {
              "widget_id": "3e0fedad-4dc8-4572-aeda-837641171df0",
              "widget_type": "Synapse.DataFrame"
            },
            "text/plain": "SynapseWidget(Synapse.DataFrame, 3e0fedad-4dc8-4572-aeda-837641171df0)"
          },
          "metadata": {}
        }
      ],
      "execution_count": 32,
      "metadata": {
        "jupyter": {
          "source_hidden": false,
          "outputs_hidden": false
        },
        "nteract": {
          "transient": {
            "deleting": false
          }
        },
        "collapsed": false
      }
    },
    {
      "cell_type": "code",
      "source": [
        "df.rdd.getNumPartitions()"
      ],
      "outputs": [
        {
          "output_type": "display_data",
          "data": {
            "application/vnd.livy.statement-meta+json": {
              "spark_pool": "large",
              "session_id": "11",
              "statement_id": 33,
              "state": "finished",
              "livy_statement_state": "available",
              "queued_time": "2022-11-06T14:03:17.4620218Z",
              "session_start_time": null,
              "execution_start_time": "2022-11-06T14:05:04.6295512Z",
              "execution_finish_time": "2022-11-06T14:05:04.8082691Z",
              "spark_jobs": null
            },
            "text/plain": "StatementMeta(large, 11, 33, Finished, Available)"
          },
          "metadata": {}
        },
        {
          "output_type": "execute_result",
          "execution_count": 103,
          "data": {
            "text/plain": "8"
          },
          "metadata": {}
        }
      ],
      "execution_count": 33,
      "metadata": {
        "jupyter": {
          "source_hidden": false,
          "outputs_hidden": false
        },
        "nteract": {
          "transient": {
            "deleting": false
          }
        }
      }
    },
    {
      "cell_type": "markdown",
      "source": [
        "Creating a function to apply with **mapInPandas**\r\n",
        "\r\n",
        "https://spark.apache.org/docs/latest/api/python/reference/pyspark.sql/api/pyspark.sql.DataFrame.mapInPandas.html#pyspark-sql-dataframe-mapinpandas"
      ],
      "metadata": {
        "nteract": {
          "transient": {
            "deleting": false
          }
        }
      }
    },
    {
      "cell_type": "code",
      "source": [
        "def some_func(iterator):\r\n",
        "    for p_df in iterator:\r\n",
        "        arr = p_df.to_numpy()\r\n",
        "        mean_arr = simple_numpy_calc(arr)\r\n",
        "        p_df[\"mean\"]=mean_arr\r\n",
        "        yield p_df\r\n"
      ],
      "outputs": [
        {
          "output_type": "display_data",
          "data": {
            "application/vnd.livy.statement-meta+json": {
              "spark_pool": "large",
              "session_id": "11",
              "statement_id": 34,
              "state": "finished",
              "livy_statement_state": "available",
              "queued_time": "2022-11-06T14:03:17.654156Z",
              "session_start_time": null,
              "execution_start_time": "2022-11-06T14:05:04.9484117Z",
              "execution_finish_time": "2022-11-06T14:05:05.1149501Z",
              "spark_jobs": null
            },
            "text/plain": "StatementMeta(large, 11, 34, Finished, Available)"
          },
          "metadata": {}
        }
      ],
      "execution_count": 34,
      "metadata": {
        "jupyter": {
          "source_hidden": false,
          "outputs_hidden": false
        },
        "nteract": {
          "transient": {
            "deleting": false
          }
        }
      }
    },
    {
      "cell_type": "code",
      "source": [
        "schema = StructType([StructField(\"mean\", FloatType())])"
      ],
      "outputs": [
        {
          "output_type": "display_data",
          "data": {
            "application/vnd.livy.statement-meta+json": {
              "spark_pool": "large",
              "session_id": "11",
              "statement_id": 35,
              "state": "finished",
              "livy_statement_state": "available",
              "queued_time": "2022-11-06T14:03:17.7693157Z",
              "session_start_time": null,
              "execution_start_time": "2022-11-06T14:05:05.236881Z",
              "execution_finish_time": "2022-11-06T14:05:05.4252525Z",
              "spark_jobs": null
            },
            "text/plain": "StatementMeta(large, 11, 35, Finished, Available)"
          },
          "metadata": {}
        }
      ],
      "execution_count": 35,
      "metadata": {
        "jupyter": {
          "source_hidden": false,
          "outputs_hidden": false
        },
        "nteract": {
          "transient": {
            "deleting": false
          }
        }
      }
    },
    {
      "cell_type": "code",
      "source": [
        "df2=df.mapInPandas(some_func, schema)\r\n",
        "start = time.time()\r\n",
        "display(df2)\r\n",
        "print(f\"Run in {time.time()-start} seconds\")"
      ],
      "outputs": [
        {
          "output_type": "display_data",
          "data": {
            "application/vnd.livy.statement-meta+json": {
              "spark_pool": "large",
              "session_id": "11",
              "statement_id": 36,
              "state": "finished",
              "livy_statement_state": "available",
              "queued_time": "2022-11-06T14:03:17.9050059Z",
              "session_start_time": null,
              "execution_start_time": "2022-11-06T14:05:06.1111265Z",
              "execution_finish_time": "2022-11-06T14:05:06.9117568Z",
              "spark_jobs": null
            },
            "text/plain": "StatementMeta(large, 11, 36, Finished, Available)"
          },
          "metadata": {}
        },
        {
          "output_type": "display_data",
          "data": {
            "application/vnd.synapse.widget-view+json": {
              "widget_id": "f6a16ab3-02d1-4902-ab9d-85612730bdf5",
              "widget_type": "Synapse.DataFrame"
            },
            "text/plain": "SynapseWidget(Synapse.DataFrame, f6a16ab3-02d1-4902-ab9d-85612730bdf5)"
          },
          "metadata": {}
        },
        {
          "output_type": "stream",
          "name": "stdout",
          "text": [
            "Run in 0.6651790142059326 seconds\n"
          ]
        }
      ],
      "execution_count": 36,
      "metadata": {
        "jupyter": {
          "source_hidden": false,
          "outputs_hidden": false
        },
        "nteract": {
          "transient": {
            "deleting": false
          }
        },
        "collapsed": false
      }
    }
  ],
  "metadata": {
    "language_info": {
      "name": "python"
    },
    "kernelspec": {
      "name": "synapse_pyspark",
      "language": "Python",
      "display_name": "Synapse PySpark"
    },
    "kernel_info": {
      "name": "synapse_pyspark"
    },
    "save_output": true,
    "synapse_widget": {
      "version": "0.1",
      "state": {
        "3e0fedad-4dc8-4572-aeda-837641171df0": {
          "type": "Synapse.DataFrame",
          "sync_state": {
            "table": {
              "rows": [
                {
                  "0": "4.7936866896995785",
                  "1": "3.7049069118880382",
                  "2": "5.944924525915559",
                  "3": "4.814506042501058"
                },
                {
                  "0": "9.207574890826905",
                  "1": "9.932246994908336",
                  "2": "8.183924617112208",
                  "3": "9.107915500949149"
                },
                {
                  "0": "9.628982280856988",
                  "1": "1.7714429656096118",
                  "2": "6.662008490000961",
                  "3": "6.020811245489187"
                }
              ],
              "schema": [
                {
                  "key": "0",
                  "name": "x",
                  "type": "double"
                },
                {
                  "key": "1",
                  "name": "y",
                  "type": "double"
                },
                {
                  "key": "2",
                  "name": "z",
                  "type": "double"
                },
                {
                  "key": "3",
                  "name": "mean",
                  "type": "double"
                }
              ],
              "truncated": false
            },
            "isSummary": false,
            "language": "scala"
          },
          "persist_state": {
            "view": {
              "type": "details",
              "tableOptions": {},
              "chartOptions": {
                "chartType": "bar",
                "aggregationType": "sum",
                "categoryFieldKeys": [
                  "1"
                ],
                "seriesFieldKeys": [
                  "0"
                ],
                "isStacked": false
              }
            }
          }
        },
        "f6a16ab3-02d1-4902-ab9d-85612730bdf5": {
          "type": "Synapse.DataFrame",
          "sync_state": {
            "table": {
              "rows": [
                {
                  "0": "4.814506"
                },
                {
                  "0": "9.107916"
                },
                {
                  "0": "6.020811"
                },
                {
                  "0": "4.409741"
                },
                {
                  "0": "5.163926"
                },
                {
                  "0": "2.7093558"
                },
                {
                  "0": "4.350206"
                },
                {
                  "0": "5.1378036"
                },
                {
                  "0": "7.0289974"
                },
                {
                  "0": "8.003493"
                },
                {
                  "0": "5.2949367"
                },
                {
                  "0": "6.5262227"
                },
                {
                  "0": "6.5104113"
                },
                {
                  "0": "8.374633"
                },
                {
                  "0": "4.164002"
                },
                {
                  "0": "6.069316"
                },
                {
                  "0": "3.2233012"
                },
                {
                  "0": "4.186955"
                },
                {
                  "0": "4.0678816"
                },
                {
                  "0": "5.047254"
                },
                {
                  "0": "4.085915"
                },
                {
                  "0": "7.235787"
                },
                {
                  "0": "5.348977"
                },
                {
                  "0": "6.5836606"
                },
                {
                  "0": "6.7286634"
                },
                {
                  "0": "5.0370555"
                },
                {
                  "0": "6.5690084"
                },
                {
                  "0": "4.75981"
                },
                {
                  "0": "4.187368"
                },
                {
                  "0": "7.8552904"
                },
                {
                  "0": "4.5575705"
                },
                {
                  "0": "6.798315"
                },
                {
                  "0": "5.7299314"
                },
                {
                  "0": "6.2350583"
                },
                {
                  "0": "6.4103026"
                },
                {
                  "0": "6.2850747"
                },
                {
                  "0": "8.030893"
                },
                {
                  "0": "7.9795594"
                },
                {
                  "0": "4.811254"
                },
                {
                  "0": "4.876302"
                },
                {
                  "0": "5.3578825"
                },
                {
                  "0": "8.806638"
                },
                {
                  "0": "4.3940063"
                },
                {
                  "0": "7.025088"
                },
                {
                  "0": "5.121652"
                },
                {
                  "0": "6.8510256"
                },
                {
                  "0": "1.9484946"
                },
                {
                  "0": "3.4268057"
                },
                {
                  "0": "5.054905"
                },
                {
                  "0": "4.7654805"
                },
                {
                  "0": "3.8322153"
                },
                {
                  "0": "4.248424"
                },
                {
                  "0": "6.7149363"
                },
                {
                  "0": "4.418122"
                },
                {
                  "0": "2.9604247"
                },
                {
                  "0": "7.1423616"
                },
                {
                  "0": "8.203261"
                },
                {
                  "0": "5.3913918"
                },
                {
                  "0": "4.6105366"
                },
                {
                  "0": "5.551485"
                },
                {
                  "0": "5.9529896"
                },
                {
                  "0": "4.6387873"
                },
                {
                  "0": "7.2134213"
                },
                {
                  "0": "4.2902694"
                },
                {
                  "0": "2.7954853"
                },
                {
                  "0": "8.11177"
                },
                {
                  "0": "4.6418905"
                },
                {
                  "0": "7.7362876"
                },
                {
                  "0": "5.478417"
                },
                {
                  "0": "4.1287184"
                },
                {
                  "0": "3.7638497"
                },
                {
                  "0": "5.3267474"
                },
                {
                  "0": "4.908666"
                },
                {
                  "0": "5.0888257"
                },
                {
                  "0": "8.18739"
                },
                {
                  "0": "5.772119"
                },
                {
                  "0": "6.5373964"
                },
                {
                  "0": "6.945137"
                },
                {
                  "0": "5.1843567"
                },
                {
                  "0": "7.90113"
                },
                {
                  "0": "7.2361646"
                },
                {
                  "0": "7.5607777"
                },
                {
                  "0": "3.209235"
                },
                {
                  "0": "8.82647"
                },
                {
                  "0": "3.9358594"
                },
                {
                  "0": "8.372857"
                },
                {
                  "0": "8.710066"
                },
                {
                  "0": "7.0243797"
                },
                {
                  "0": "3.5746887"
                },
                {
                  "0": "7.323475"
                },
                {
                  "0": "7.491506"
                },
                {
                  "0": "6.719456"
                },
                {
                  "0": "6.880282"
                },
                {
                  "0": "5.800536"
                },
                {
                  "0": "5.2108006"
                },
                {
                  "0": "3.5689516"
                },
                {
                  "0": "6.20714"
                },
                {
                  "0": "5.46132"
                },
                {
                  "0": "3.9074724"
                },
                {
                  "0": "6.8828735"
                },
                {
                  "0": "6.3951197"
                },
                {
                  "0": "4.0097313"
                },
                {
                  "0": "4.586108"
                },
                {
                  "0": "3.2996612"
                },
                {
                  "0": "4.58244"
                },
                {
                  "0": "4.4022713"
                },
                {
                  "0": "5.559609"
                },
                {
                  "0": "8.886376"
                },
                {
                  "0": "3.5498044"
                },
                {
                  "0": "4.187218"
                },
                {
                  "0": "5.7661185"
                },
                {
                  "0": "6.208155"
                },
                {
                  "0": "7.737637"
                },
                {
                  "0": "5.9958134"
                },
                {
                  "0": "4.5169377"
                },
                {
                  "0": "5.69985"
                },
                {
                  "0": "6.4036922"
                },
                {
                  "0": "6.7956433"
                },
                {
                  "0": "3.413657"
                },
                {
                  "0": "7.6809993"
                },
                {
                  "0": "3.9705968"
                },
                {
                  "0": "5.116079"
                },
                {
                  "0": "4.9942393"
                },
                {
                  "0": "5.8016644"
                },
                {
                  "0": "5.376504"
                },
                {
                  "0": "3.3327172"
                },
                {
                  "0": "5.8287396"
                },
                {
                  "0": "6.305743"
                },
                {
                  "0": "6.007893"
                },
                {
                  "0": "7.91036"
                },
                {
                  "0": "5.0100255"
                },
                {
                  "0": "7.640973"
                },
                {
                  "0": "5.237144"
                },
                {
                  "0": "5.0485053"
                },
                {
                  "0": "5.8165646"
                },
                {
                  "0": "6.7787285"
                },
                {
                  "0": "5.052037"
                },
                {
                  "0": "4.939642"
                },
                {
                  "0": "5.828683"
                },
                {
                  "0": "5.5567245"
                },
                {
                  "0": "6.922739"
                },
                {
                  "0": "8.428166"
                },
                {
                  "0": "7.8172746"
                },
                {
                  "0": "7.4075317"
                },
                {
                  "0": "6.5671854"
                },
                {
                  "0": "6.940311"
                },
                {
                  "0": "5.8467956"
                },
                {
                  "0": "6.393006"
                },
                {
                  "0": "2.6122928"
                },
                {
                  "0": "5.840444"
                },
                {
                  "0": "5.76212"
                },
                {
                  "0": "4.230449"
                },
                {
                  "0": "6.768553"
                },
                {
                  "0": "9.113088"
                },
                {
                  "0": "8.259823"
                },
                {
                  "0": "4.1843905"
                },
                {
                  "0": "4.7838397"
                },
                {
                  "0": "5.536247"
                },
                {
                  "0": "3.6773422"
                },
                {
                  "0": "5.5026994"
                },
                {
                  "0": "7.0806217"
                },
                {
                  "0": "4.858565"
                },
                {
                  "0": "4.479819"
                },
                {
                  "0": "3.6108327"
                },
                {
                  "0": "4.1221137"
                },
                {
                  "0": "5.9814363"
                },
                {
                  "0": "7.6924987"
                },
                {
                  "0": "7.3210998"
                },
                {
                  "0": "3.461737"
                },
                {
                  "0": "7.6370034"
                },
                {
                  "0": "4.423503"
                },
                {
                  "0": "5.2410254"
                },
                {
                  "0": "6.4640217"
                },
                {
                  "0": "4.228955"
                },
                {
                  "0": "4.69446"
                },
                {
                  "0": "2.2522614"
                },
                {
                  "0": "7.065279"
                },
                {
                  "0": "6.992016"
                },
                {
                  "0": "3.2139432"
                },
                {
                  "0": "6.0181527"
                },
                {
                  "0": "6.4516788"
                },
                {
                  "0": "3.8148267"
                },
                {
                  "0": "7.7842827"
                },
                {
                  "0": "4.9380617"
                },
                {
                  "0": "3.5646377"
                },
                {
                  "0": "3.4209623"
                },
                {
                  "0": "4.200028"
                },
                {
                  "0": "6.644803"
                },
                {
                  "0": "6.414791"
                },
                {
                  "0": "5.647558"
                },
                {
                  "0": "7.412797"
                },
                {
                  "0": "6.1155634"
                },
                {
                  "0": "5.753024"
                },
                {
                  "0": "5.1018615"
                },
                {
                  "0": "6.795298"
                },
                {
                  "0": "4.366735"
                },
                {
                  "0": "5.8160243"
                },
                {
                  "0": "5.5509877"
                },
                {
                  "0": "7.0868454"
                },
                {
                  "0": "5.1598687"
                },
                {
                  "0": "5.3071733"
                },
                {
                  "0": "3.0631213"
                },
                {
                  "0": "4.3975716"
                },
                {
                  "0": "8.430934"
                },
                {
                  "0": "5.6188917"
                },
                {
                  "0": "6.514641"
                },
                {
                  "0": "5.249554"
                },
                {
                  "0": "4.877695"
                },
                {
                  "0": "7.165272"
                },
                {
                  "0": "4.5026326"
                },
                {
                  "0": "6.0849557"
                },
                {
                  "0": "6.024134"
                },
                {
                  "0": "7.14868"
                },
                {
                  "0": "3.0048304"
                },
                {
                  "0": "6.785074"
                },
                {
                  "0": "3.9695582"
                },
                {
                  "0": "6.9276676"
                },
                {
                  "0": "6.0476227"
                },
                {
                  "0": "6.3765035"
                },
                {
                  "0": "6.1982436"
                },
                {
                  "0": "7.38032"
                },
                {
                  "0": "6.5011115"
                },
                {
                  "0": "4.2181187"
                },
                {
                  "0": "4.539731"
                },
                {
                  "0": "3.3119814"
                },
                {
                  "0": "5.5263352"
                },
                {
                  "0": "6.067002"
                },
                {
                  "0": "6.497673"
                },
                {
                  "0": "7.410582"
                },
                {
                  "0": "4.9602776"
                },
                {
                  "0": "7.0778947"
                },
                {
                  "0": "2.4047115"
                },
                {
                  "0": "5.050934"
                },
                {
                  "0": "4.5873218"
                },
                {
                  "0": "6.292057"
                },
                {
                  "0": "6.329133"
                },
                {
                  "0": "5.1534615"
                },
                {
                  "0": "6.15364"
                },
                {
                  "0": "4.438577"
                },
                {
                  "0": "3.480571"
                },
                {
                  "0": "6.1431985"
                },
                {
                  "0": "2.4347663"
                },
                {
                  "0": "6.697885"
                },
                {
                  "0": "7.0579257"
                },
                {
                  "0": "5.166183"
                },
                {
                  "0": "3.4851682"
                },
                {
                  "0": "7.7889733"
                },
                {
                  "0": "8.386127"
                },
                {
                  "0": "4.8908725"
                },
                {
                  "0": "3.6087966"
                },
                {
                  "0": "6.2967305"
                },
                {
                  "0": "7.689305"
                },
                {
                  "0": "6.5028553"
                },
                {
                  "0": "4.613889"
                },
                {
                  "0": "6.0828824"
                },
                {
                  "0": "8.720187"
                },
                {
                  "0": "4.8937793"
                },
                {
                  "0": "7.3955097"
                },
                {
                  "0": "4.954702"
                },
                {
                  "0": "5.962159"
                },
                {
                  "0": "4.549641"
                },
                {
                  "0": "6.01695"
                },
                {
                  "0": "6.4667735"
                },
                {
                  "0": "4.3432074"
                },
                {
                  "0": "6.7630816"
                },
                {
                  "0": "5.8690634"
                },
                {
                  "0": "6.7737765"
                },
                {
                  "0": "4.636905"
                },
                {
                  "0": "3.8667326"
                },
                {
                  "0": "7.172588"
                },
                {
                  "0": "7.9661727"
                },
                {
                  "0": "3.7479317"
                },
                {
                  "0": "3.9416106"
                },
                {
                  "0": "6.249033"
                },
                {
                  "0": "6.6465683"
                },
                {
                  "0": "3.1881545"
                },
                {
                  "0": "5.997441"
                },
                {
                  "0": "4.266301"
                },
                {
                  "0": "6.096362"
                },
                {
                  "0": "8.492252"
                },
                {
                  "0": "6.8761764"
                },
                {
                  "0": "6.5997586"
                },
                {
                  "0": "5.9103355"
                },
                {
                  "0": "3.1048963"
                },
                {
                  "0": "4.485381"
                },
                {
                  "0": "5.897882"
                },
                {
                  "0": "3.8353755"
                },
                {
                  "0": "4.8764005"
                },
                {
                  "0": "4.853884"
                },
                {
                  "0": "5.2250733"
                },
                {
                  "0": "5.9850864"
                },
                {
                  "0": "6.468596"
                },
                {
                  "0": "6.4376173"
                },
                {
                  "0": "6.500841"
                },
                {
                  "0": "6.0602345"
                },
                {
                  "0": "6.083476"
                },
                {
                  "0": "6.3807206"
                },
                {
                  "0": "6.620549"
                },
                {
                  "0": "5.7924786"
                },
                {
                  "0": "2.9817967"
                },
                {
                  "0": "3.3800266"
                },
                {
                  "0": "5.435956"
                },
                {
                  "0": "6.409853"
                },
                {
                  "0": "5.289222"
                },
                {
                  "0": "3.0069702"
                },
                {
                  "0": "8.657763"
                },
                {
                  "0": "4.605563"
                },
                {
                  "0": "6.213966"
                },
                {
                  "0": "4.219388"
                },
                {
                  "0": "9.699288"
                },
                {
                  "0": "8.4265785"
                },
                {
                  "0": "3.62782"
                },
                {
                  "0": "7.603518"
                },
                {
                  "0": "3.6795206"
                },
                {
                  "0": "4.5301933"
                },
                {
                  "0": "7.815679"
                },
                {
                  "0": "2.9181106"
                },
                {
                  "0": "5.902131"
                },
                {
                  "0": "6.0122538"
                },
                {
                  "0": "5.901577"
                },
                {
                  "0": "4.879418"
                },
                {
                  "0": "8.735169"
                },
                {
                  "0": "4.6742487"
                },
                {
                  "0": "5.77087"
                },
                {
                  "0": "4.3487124"
                },
                {
                  "0": "5.7150693"
                },
                {
                  "0": "5.7427225"
                },
                {
                  "0": "3.0547624"
                },
                {
                  "0": "6.6320863"
                },
                {
                  "0": "4.0127354"
                },
                {
                  "0": "3.029029"
                },
                {
                  "0": "6.6005735"
                },
                {
                  "0": "5.31226"
                },
                {
                  "0": "5.195772"
                },
                {
                  "0": "4.604232"
                },
                {
                  "0": "6.862169"
                },
                {
                  "0": "6.9567213"
                },
                {
                  "0": "4.715725"
                },
                {
                  "0": "3.8480213"
                },
                {
                  "0": "6.753387"
                },
                {
                  "0": "8.852216"
                },
                {
                  "0": "3.5866866"
                },
                {
                  "0": "3.6427839"
                },
                {
                  "0": "5.454647"
                },
                {
                  "0": "6.391211"
                },
                {
                  "0": "5.2265234"
                },
                {
                  "0": "4.4273615"
                },
                {
                  "0": "6.7823534"
                },
                {
                  "0": "6.5537543"
                },
                {
                  "0": "7.632973"
                },
                {
                  "0": "4.085199"
                },
                {
                  "0": "6.6944523"
                },
                {
                  "0": "4.7206306"
                },
                {
                  "0": "5.8245087"
                },
                {
                  "0": "7.2425504"
                },
                {
                  "0": "7.2366953"
                },
                {
                  "0": "5.876298"
                },
                {
                  "0": "3.3802502"
                },
                {
                  "0": "3.0700772"
                },
                {
                  "0": "4.843466"
                },
                {
                  "0": "3.6647868"
                },
                {
                  "0": "5.4224043"
                },
                {
                  "0": "6.306561"
                },
                {
                  "0": "7.56534"
                },
                {
                  "0": "4.395086"
                },
                {
                  "0": "7.954157"
                },
                {
                  "0": "7.282993"
                },
                {
                  "0": "4.8328185"
                },
                {
                  "0": "4.233126"
                },
                {
                  "0": "5.010908"
                },
                {
                  "0": "4.884821"
                },
                {
                  "0": "6.49393"
                },
                {
                  "0": "7.066423"
                },
                {
                  "0": "6.8466105"
                },
                {
                  "0": "7.3193974"
                },
                {
                  "0": "8.587246"
                },
                {
                  "0": "4.7798767"
                },
                {
                  "0": "7.5900264"
                },
                {
                  "0": "4.2022743"
                },
                {
                  "0": "8.732218"
                },
                {
                  "0": "7.6842456"
                },
                {
                  "0": "5.2839885"
                },
                {
                  "0": "4.506005"
                },
                {
                  "0": "6.6094084"
                },
                {
                  "0": "8.182344"
                },
                {
                  "0": "7.49139"
                },
                {
                  "0": "8.507649"
                },
                {
                  "0": "5.431262"
                },
                {
                  "0": "3.8100653"
                },
                {
                  "0": "5.055879"
                },
                {
                  "0": "5.613365"
                },
                {
                  "0": "8.392592"
                },
                {
                  "0": "3.6929524"
                },
                {
                  "0": "5.662797"
                },
                {
                  "0": "4.826416"
                },
                {
                  "0": "6.978912"
                },
                {
                  "0": "4.4141994"
                },
                {
                  "0": "5.7463737"
                },
                {
                  "0": "7.2744985"
                },
                {
                  "0": "5.8076854"
                },
                {
                  "0": "4.5368958"
                },
                {
                  "0": "4.7210126"
                },
                {
                  "0": "2.9631557"
                },
                {
                  "0": "8.089652"
                },
                {
                  "0": "5.912747"
                },
                {
                  "0": "5.043044"
                },
                {
                  "0": "5.034339"
                },
                {
                  "0": "2.6716785"
                },
                {
                  "0": "6.469631"
                },
                {
                  "0": "5.482779"
                },
                {
                  "0": "4.6971"
                },
                {
                  "0": "6.237297"
                },
                {
                  "0": "5.739952"
                },
                {
                  "0": "7.478966"
                },
                {
                  "0": "2.5051525"
                },
                {
                  "0": "5.611519"
                },
                {
                  "0": "7.488406"
                },
                {
                  "0": "6.5563564"
                },
                {
                  "0": "5.215858"
                },
                {
                  "0": "7.672219"
                },
                {
                  "0": "5.045043"
                },
                {
                  "0": "4.4147077"
                },
                {
                  "0": "5.677357"
                },
                {
                  "0": "6.8827434"
                },
                {
                  "0": "3.5158925"
                },
                {
                  "0": "6.0101657"
                },
                {
                  "0": "6.9968786"
                },
                {
                  "0": "8.408132"
                },
                {
                  "0": "5.3287582"
                },
                {
                  "0": "6.141833"
                },
                {
                  "0": "7.9815326"
                },
                {
                  "0": "6.404954"
                },
                {
                  "0": "4.189478"
                },
                {
                  "0": "5.0510945"
                },
                {
                  "0": "5.6914697"
                },
                {
                  "0": "3.3211052"
                },
                {
                  "0": "4.522313"
                },
                {
                  "0": "5.8630586"
                },
                {
                  "0": "5.920154"
                },
                {
                  "0": "4.327546"
                },
                {
                  "0": "2.2493026"
                },
                {
                  "0": "4.433006"
                },
                {
                  "0": "5.664326"
                },
                {
                  "0": "6.746191"
                },
                {
                  "0": "4.260922"
                },
                {
                  "0": "7.614475"
                },
                {
                  "0": "6.4282413"
                },
                {
                  "0": "4.0577946"
                },
                {
                  "0": "7.4657145"
                },
                {
                  "0": "7.681168"
                },
                {
                  "0": "6.3118453"
                },
                {
                  "0": "3.3761325"
                },
                {
                  "0": "4.2632594"
                },
                {
                  "0": "5.726515"
                },
                {
                  "0": "8.840353"
                },
                {
                  "0": "6.1868954"
                },
                {
                  "0": "5.769825"
                },
                {
                  "0": "4.555576"
                },
                {
                  "0": "6.2002563"
                },
                {
                  "0": "6.5013456"
                },
                {
                  "0": "6.226939"
                },
                {
                  "0": "8.297312"
                },
                {
                  "0": "5.1310005"
                },
                {
                  "0": "2.9114273"
                },
                {
                  "0": "3.5754232"
                },
                {
                  "0": "6.2725725"
                },
                {
                  "0": "2.4187236"
                },
                {
                  "0": "6.3776402"
                },
                {
                  "0": "4.38643"
                },
                {
                  "0": "4.014002"
                },
                {
                  "0": "6.878634"
                },
                {
                  "0": "7.6415677"
                },
                {
                  "0": "4.332801"
                },
                {
                  "0": "5.766722"
                },
                {
                  "0": "5.4196215"
                },
                {
                  "0": "4.135617"
                },
                {
                  "0": "7.4901032"
                },
                {
                  "0": "7.1460657"
                },
                {
                  "0": "7.3108525"
                },
                {
                  "0": "3.0289347"
                },
                {
                  "0": "6.0063977"
                },
                {
                  "0": "4.5920353"
                },
                {
                  "0": "7.3829436"
                },
                {
                  "0": "6.995818"
                },
                {
                  "0": "7.7302613"
                },
                {
                  "0": "6.3785872"
                },
                {
                  "0": "5.4193206"
                },
                {
                  "0": "9.195933"
                },
                {
                  "0": "3.8582098"
                },
                {
                  "0": "5.8745728"
                },
                {
                  "0": "5.495286"
                },
                {
                  "0": "4.8291698"
                },
                {
                  "0": "6.213476"
                },
                {
                  "0": "5.5757275"
                },
                {
                  "0": "3.104087"
                },
                {
                  "0": "5.7081323"
                },
                {
                  "0": "4.0415063"
                },
                {
                  "0": "3.1258714"
                },
                {
                  "0": "7.222122"
                },
                {
                  "0": "3.0908737"
                },
                {
                  "0": "7.521278"
                },
                {
                  "0": "4.6557565"
                },
                {
                  "0": "7.442098"
                },
                {
                  "0": "1.4434947"
                },
                {
                  "0": "4.1669984"
                },
                {
                  "0": "5.441201"
                },
                {
                  "0": "4.3453107"
                },
                {
                  "0": "5.4867506"
                },
                {
                  "0": "5.835971"
                },
                {
                  "0": "4.506212"
                },
                {
                  "0": "6.6140733"
                },
                {
                  "0": "4.535775"
                },
                {
                  "0": "3.5338464"
                },
                {
                  "0": "5.7679048"
                },
                {
                  "0": "6.7887487"
                },
                {
                  "0": "6.505836"
                },
                {
                  "0": "7.626116"
                },
                {
                  "0": "6.066808"
                },
                {
                  "0": "6.575155"
                },
                {
                  "0": "4.270901"
                },
                {
                  "0": "3.67899"
                },
                {
                  "0": "3.3887098"
                },
                {
                  "0": "5.426224"
                },
                {
                  "0": "2.799962"
                },
                {
                  "0": "7.5205865"
                },
                {
                  "0": "7.7171087"
                },
                {
                  "0": "6.185021"
                },
                {
                  "0": "7.7121625"
                },
                {
                  "0": "5.631733"
                },
                {
                  "0": "5.598338"
                },
                {
                  "0": "5.5140595"
                },
                {
                  "0": "7.1532845"
                },
                {
                  "0": "4.633212"
                },
                {
                  "0": "5.170246"
                },
                {
                  "0": "4.8771505"
                },
                {
                  "0": "3.7962885"
                },
                {
                  "0": "6.152777"
                },
                {
                  "0": "3.2473342"
                },
                {
                  "0": "4.8652983"
                },
                {
                  "0": "3.8774555"
                },
                {
                  "0": "5.9371243"
                },
                {
                  "0": "6.059977"
                },
                {
                  "0": "4.9438567"
                },
                {
                  "0": "4.7668514"
                },
                {
                  "0": "6.492706"
                },
                {
                  "0": "6.2238264"
                },
                {
                  "0": "4.0457"
                },
                {
                  "0": "5.8046346"
                },
                {
                  "0": "6.894933"
                },
                {
                  "0": "5.60903"
                },
                {
                  "0": "5.9159927"
                },
                {
                  "0": "6.3579583"
                },
                {
                  "0": "5.6305437"
                },
                {
                  "0": "5.4084935"
                },
                {
                  "0": "5.199528"
                },
                {
                  "0": "5.0878763"
                },
                {
                  "0": "6.574733"
                },
                {
                  "0": "5.372768"
                },
                {
                  "0": "5.293724"
                },
                {
                  "0": "7.786508"
                },
                {
                  "0": "4.5189085"
                },
                {
                  "0": "6.3765755"
                },
                {
                  "0": "6.619245"
                },
                {
                  "0": "5.016386"
                },
                {
                  "0": "8.212761"
                },
                {
                  "0": "3.5578215"
                },
                {
                  "0": "2.9999156"
                },
                {
                  "0": "5.0887012"
                },
                {
                  "0": "4.6496134"
                },
                {
                  "0": "6.0938516"
                },
                {
                  "0": "6.7559357"
                },
                {
                  "0": "5.7832513"
                },
                {
                  "0": "4.733113"
                },
                {
                  "0": "5.776907"
                },
                {
                  "0": "4.890629"
                },
                {
                  "0": "8.180835"
                },
                {
                  "0": "4.6213284"
                },
                {
                  "0": "5.311278"
                },
                {
                  "0": "4.4914613"
                },
                {
                  "0": "6.9885187"
                },
                {
                  "0": "7.3917933"
                },
                {
                  "0": "6.7332973"
                },
                {
                  "0": "4.1098075"
                },
                {
                  "0": "5.9326305"
                },
                {
                  "0": "4.222774"
                },
                {
                  "0": "8.12927"
                },
                {
                  "0": "4.2960258"
                },
                {
                  "0": "7.266719"
                },
                {
                  "0": "9.167558"
                },
                {
                  "0": "4.7318516"
                },
                {
                  "0": "6.981343"
                },
                {
                  "0": "5.1613064"
                },
                {
                  "0": "4.8462744"
                },
                {
                  "0": "6.135557"
                },
                {
                  "0": "6.2167277"
                },
                {
                  "0": "4.8717647"
                },
                {
                  "0": "2.9035828"
                },
                {
                  "0": "4.486524"
                },
                {
                  "0": "4.4298654"
                },
                {
                  "0": "6.280432"
                },
                {
                  "0": "4.5807853"
                },
                {
                  "0": "4.551676"
                },
                {
                  "0": "7.32515"
                },
                {
                  "0": "5.3705955"
                },
                {
                  "0": "3.5396638"
                },
                {
                  "0": "5.915771"
                },
                {
                  "0": "7.0575438"
                },
                {
                  "0": "8.695695"
                },
                {
                  "0": "6.7547693"
                },
                {
                  "0": "4.2077775"
                },
                {
                  "0": "5.585594"
                },
                {
                  "0": "5.8504467"
                },
                {
                  "0": "5.3433943"
                },
                {
                  "0": "3.35684"
                },
                {
                  "0": "4.2252793"
                },
                {
                  "0": "4.726453"
                },
                {
                  "0": "6.3466716"
                },
                {
                  "0": "5.993902"
                },
                {
                  "0": "6.721134"
                },
                {
                  "0": "3.1255047"
                },
                {
                  "0": "4.469187"
                },
                {
                  "0": "4.7306833"
                },
                {
                  "0": "6.1314745"
                },
                {
                  "0": "3.8447883"
                },
                {
                  "0": "5.2546167"
                },
                {
                  "0": "3.8023424"
                },
                {
                  "0": "6.4127884"
                },
                {
                  "0": "5.1476903"
                },
                {
                  "0": "7.598084"
                },
                {
                  "0": "4.9329796"
                },
                {
                  "0": "6.8154135"
                },
                {
                  "0": "5.1345177"
                },
                {
                  "0": "4.3281217"
                },
                {
                  "0": "2.0252986"
                },
                {
                  "0": "5.7308497"
                },
                {
                  "0": "5.667739"
                },
                {
                  "0": "4.27357"
                },
                {
                  "0": "5.587773"
                },
                {
                  "0": "6.853733"
                },
                {
                  "0": "6.050125"
                },
                {
                  "0": "4.91991"
                },
                {
                  "0": "4.824023"
                },
                {
                  "0": "8.919081"
                },
                {
                  "0": "3.863237"
                },
                {
                  "0": "5.9786"
                },
                {
                  "0": "2.7574096"
                },
                {
                  "0": "5.8425565"
                },
                {
                  "0": "2.8735783"
                },
                {
                  "0": "3.4909415"
                },
                {
                  "0": "4.3665442"
                },
                {
                  "0": "5.6646833"
                },
                {
                  "0": "5.1450224"
                },
                {
                  "0": "3.6339176"
                },
                {
                  "0": "5.4493866"
                },
                {
                  "0": "7.220665"
                },
                {
                  "0": "4.8677354"
                },
                {
                  "0": "4.0233865"
                },
                {
                  "0": "3.434798"
                },
                {
                  "0": "4.667833"
                },
                {
                  "0": "4.9458175"
                },
                {
                  "0": "5.93026"
                },
                {
                  "0": "8.942032"
                },
                {
                  "0": "4.7505364"
                },
                {
                  "0": "4.1903586"
                },
                {
                  "0": "6.889063"
                },
                {
                  "0": "6.2816057"
                },
                {
                  "0": "5.040676"
                },
                {
                  "0": "6.3561506"
                },
                {
                  "0": "3.0944607"
                },
                {
                  "0": "6.6486454"
                },
                {
                  "0": "5.082789"
                },
                {
                  "0": "3.0728545"
                },
                {
                  "0": "6.877767"
                },
                {
                  "0": "5.4411235"
                },
                {
                  "0": "7.6061764"
                },
                {
                  "0": "7.297944"
                },
                {
                  "0": "6.7225633"
                },
                {
                  "0": "5.0440807"
                },
                {
                  "0": "4.267135"
                },
                {
                  "0": "8.314743"
                },
                {
                  "0": "7.150733"
                },
                {
                  "0": "4.3234615"
                },
                {
                  "0": "5.3996854"
                },
                {
                  "0": "4.703607"
                },
                {
                  "0": "7.7717104"
                },
                {
                  "0": "4.7287197"
                },
                {
                  "0": "7.497974"
                },
                {
                  "0": "1.3183335"
                },
                {
                  "0": "6.685841"
                },
                {
                  "0": "3.3114693"
                },
                {
                  "0": "6.190514"
                },
                {
                  "0": "7.170393"
                },
                {
                  "0": "2.2744212"
                },
                {
                  "0": "4.058117"
                },
                {
                  "0": "8.595444"
                },
                {
                  "0": "6.0983124"
                },
                {
                  "0": "6.7991824"
                },
                {
                  "0": "6.455289"
                },
                {
                  "0": "5.661544"
                },
                {
                  "0": "6.604715"
                },
                {
                  "0": "5.7476745"
                },
                {
                  "0": "2.1729417"
                },
                {
                  "0": "3.7864456"
                },
                {
                  "0": "5.192965"
                },
                {
                  "0": "6.197751"
                },
                {
                  "0": "2.277774"
                },
                {
                  "0": "6.126132"
                },
                {
                  "0": "3.1433012"
                },
                {
                  "0": "6.7642713"
                },
                {
                  "0": "3.4692378"
                },
                {
                  "0": "6.2105403"
                },
                {
                  "0": "3.2830508"
                },
                {
                  "0": "5.7650657"
                },
                {
                  "0": "5.320235"
                },
                {
                  "0": "3.3516712"
                },
                {
                  "0": "6.1607337"
                },
                {
                  "0": "7.1150374"
                },
                {
                  "0": "3.6521943"
                },
                {
                  "0": "7.0703382"
                },
                {
                  "0": "7.008402"
                },
                {
                  "0": "3.020019"
                },
                {
                  "0": "5.5882106"
                },
                {
                  "0": "3.6024942"
                },
                {
                  "0": "6.54453"
                },
                {
                  "0": "5.0916586"
                },
                {
                  "0": "3.2415562"
                },
                {
                  "0": "4.5822177"
                },
                {
                  "0": "4.7154255"
                },
                {
                  "0": "6.452826"
                },
                {
                  "0": "5.5114098"
                },
                {
                  "0": "2.7073143"
                },
                {
                  "0": "2.9361508"
                },
                {
                  "0": "4.9733443"
                },
                {
                  "0": "7.389675"
                },
                {
                  "0": "6.514156"
                },
                {
                  "0": "6.7230625"
                },
                {
                  "0": "7.0529947"
                },
                {
                  "0": "3.4994998"
                },
                {
                  "0": "3.147597"
                },
                {
                  "0": "6.161377"
                },
                {
                  "0": "5.255168"
                },
                {
                  "0": "3.807903"
                },
                {
                  "0": "4.464353"
                },
                {
                  "0": "5.354723"
                },
                {
                  "0": "3.9014735"
                },
                {
                  "0": "7.3366446"
                },
                {
                  "0": "6.042644"
                },
                {
                  "0": "5.9548335"
                },
                {
                  "0": "5.580588"
                },
                {
                  "0": "7.79045"
                },
                {
                  "0": "5.8770647"
                },
                {
                  "0": "6.353085"
                },
                {
                  "0": "4.8689117"
                },
                {
                  "0": "5.4308825"
                },
                {
                  "0": "6.343274"
                },
                {
                  "0": "5.9613853"
                },
                {
                  "0": "6.1805644"
                },
                {
                  "0": "6.76234"
                },
                {
                  "0": "5.251395"
                },
                {
                  "0": "2.989041"
                },
                {
                  "0": "3.7750974"
                },
                {
                  "0": "5.1513586"
                },
                {
                  "0": "3.6850421"
                },
                {
                  "0": "3.91821"
                },
                {
                  "0": "5.981123"
                },
                {
                  "0": "6.5815797"
                },
                {
                  "0": "4.766019"
                },
                {
                  "0": "6.814451"
                },
                {
                  "0": "7.0280123"
                },
                {
                  "0": "3.9003863"
                },
                {
                  "0": "7.0490985"
                },
                {
                  "0": "7.2351003"
                },
                {
                  "0": "5.4377556"
                },
                {
                  "0": "3.7636557"
                },
                {
                  "0": "4.6152925"
                },
                {
                  "0": "4.8426056"
                },
                {
                  "0": "7.649142"
                },
                {
                  "0": "3.9153183"
                },
                {
                  "0": "3.059676"
                },
                {
                  "0": "6.4879766"
                },
                {
                  "0": "6.8623676"
                },
                {
                  "0": "3.5380485"
                },
                {
                  "0": "3.0228448"
                },
                {
                  "0": "2.8828359"
                },
                {
                  "0": "7.009581"
                },
                {
                  "0": "6.9270525"
                },
                {
                  "0": "3.629543"
                },
                {
                  "0": "6.359147"
                },
                {
                  "0": "4.6232224"
                },
                {
                  "0": "8.319965"
                },
                {
                  "0": "5.5472784"
                },
                {
                  "0": "4.785174"
                },
                {
                  "0": "8.153986"
                },
                {
                  "0": "5.489664"
                },
                {
                  "0": "4.6065373"
                },
                {
                  "0": "3.9624095"
                },
                {
                  "0": "3.70681"
                },
                {
                  "0": "8.364415"
                },
                {
                  "0": "3.8658512"
                },
                {
                  "0": "6.2151537"
                },
                {
                  "0": "5.3993998"
                },
                {
                  "0": "6.289355"
                },
                {
                  "0": "5.825407"
                },
                {
                  "0": "5.7509203"
                },
                {
                  "0": "7.7821918"
                },
                {
                  "0": "5.503551"
                },
                {
                  "0": "3.0872135"
                },
                {
                  "0": "7.9120293"
                },
                {
                  "0": "3.6113536"
                },
                {
                  "0": "2.8515475"
                },
                {
                  "0": "4.581882"
                },
                {
                  "0": "3.7446764"
                },
                {
                  "0": "5.351745"
                },
                {
                  "0": "7.581789"
                },
                {
                  "0": "5.189004"
                },
                {
                  "0": "5.234497"
                },
                {
                  "0": "3.7222161"
                },
                {
                  "0": "5.113157"
                },
                {
                  "0": "5.0431166"
                },
                {
                  "0": "4.609906"
                },
                {
                  "0": "5.0063677"
                },
                {
                  "0": "4.490443"
                },
                {
                  "0": "4.0059624"
                },
                {
                  "0": "7.045066"
                },
                {
                  "0": "2.5231369"
                },
                {
                  "0": "3.883133"
                },
                {
                  "0": "7.318252"
                },
                {
                  "0": "7.682638"
                },
                {
                  "0": "2.4263804"
                },
                {
                  "0": "4.2424364"
                },
                {
                  "0": "6.753197"
                },
                {
                  "0": "4.734839"
                },
                {
                  "0": "4.986823"
                },
                {
                  "0": "2.3981674"
                },
                {
                  "0": "4.61211"
                },
                {
                  "0": "5.401738"
                },
                {
                  "0": "8.250553"
                },
                {
                  "0": "6.7021365"
                },
                {
                  "0": "4.970929"
                },
                {
                  "0": "6.336293"
                },
                {
                  "0": "2.8841102"
                },
                {
                  "0": "5.2325115"
                },
                {
                  "0": "5.0297365"
                },
                {
                  "0": "6.6295686"
                },
                {
                  "0": "6.7008514"
                },
                {
                  "0": "6.979282"
                },
                {
                  "0": "6.7497597"
                },
                {
                  "0": "6.7461615"
                },
                {
                  "0": "4.5711203"
                },
                {
                  "0": "7.1988764"
                },
                {
                  "0": "5.3732452"
                },
                {
                  "0": "2.3841207"
                },
                {
                  "0": "4.3076534"
                },
                {
                  "0": "7.7722216"
                },
                {
                  "0": "7.704411"
                },
                {
                  "0": "5.6658077"
                },
                {
                  "0": "3.8769124"
                },
                {
                  "0": "3.6175313"
                },
                {
                  "0": "4.029131"
                },
                {
                  "0": "6.751428"
                },
                {
                  "0": "4.493595"
                },
                {
                  "0": "4.1622643"
                },
                {
                  "0": "5.306935"
                },
                {
                  "0": "5.875289"
                },
                {
                  "0": "5.4715023"
                },
                {
                  "0": "5.6951084"
                },
                {
                  "0": "4.372856"
                },
                {
                  "0": "4.4530745"
                },
                {
                  "0": "6.612304"
                },
                {
                  "0": "3.2832038"
                },
                {
                  "0": "4.865833"
                },
                {
                  "0": "7.8701315"
                },
                {
                  "0": "4.189514"
                },
                {
                  "0": "5.4168153"
                },
                {
                  "0": "5.3619223"
                },
                {
                  "0": "7.938982"
                },
                {
                  "0": "5.7462234"
                },
                {
                  "0": "5.190684"
                },
                {
                  "0": "4.089683"
                },
                {
                  "0": "6.2086124"
                },
                {
                  "0": "4.8213305"
                },
                {
                  "0": "7.982506"
                },
                {
                  "0": "6.525328"
                },
                {
                  "0": "7.377797"
                },
                {
                  "0": "9.627686"
                },
                {
                  "0": "7.195328"
                },
                {
                  "0": "7.327599"
                },
                {
                  "0": "5.1084805"
                },
                {
                  "0": "6.6065345"
                },
                {
                  "0": "5.3911986"
                },
                {
                  "0": "6.264117"
                },
                {
                  "0": "4.9656525"
                },
                {
                  "0": "6.525518"
                },
                {
                  "0": "5.4057617"
                },
                {
                  "0": "6.5880127"
                },
                {
                  "0": "3.9745867"
                },
                {
                  "0": "5.1251144"
                },
                {
                  "0": "3.77826"
                },
                {
                  "0": "3.3818893"
                },
                {
                  "0": "2.0943954"
                },
                {
                  "0": "4.583621"
                },
                {
                  "0": "1.5928999"
                },
                {
                  "0": "3.468567"
                },
                {
                  "0": "6.106918"
                },
                {
                  "0": "4.152256"
                },
                {
                  "0": "9.47384"
                },
                {
                  "0": "6.20044"
                },
                {
                  "0": "5.4290953"
                },
                {
                  "0": "8.057062"
                },
                {
                  "0": "8.2767935"
                },
                {
                  "0": "3.1969635"
                },
                {
                  "0": "4.2937303"
                },
                {
                  "0": "4.9156046"
                },
                {
                  "0": "4.211771"
                },
                {
                  "0": "6.6259565"
                },
                {
                  "0": "4.1106653"
                },
                {
                  "0": "2.6827073"
                },
                {
                  "0": "4.4718103"
                },
                {
                  "0": "6.673882"
                },
                {
                  "0": "6.2206755"
                },
                {
                  "0": "6.4388447"
                },
                {
                  "0": "5.9947615"
                },
                {
                  "0": "4.0148597"
                },
                {
                  "0": "5.3721957"
                },
                {
                  "0": "5.8334827"
                },
                {
                  "0": "7.1859436"
                },
                {
                  "0": "5.1688366"
                },
                {
                  "0": "8.265106"
                },
                {
                  "0": "6.32628"
                },
                {
                  "0": "5.8965197"
                },
                {
                  "0": "4.2177663"
                },
                {
                  "0": "6.6661263"
                },
                {
                  "0": "5.674216"
                },
                {
                  "0": "5.1259403"
                },
                {
                  "0": "2.914035"
                },
                {
                  "0": "5.762959"
                },
                {
                  "0": "6.411464"
                },
                {
                  "0": "6.4054995"
                },
                {
                  "0": "1.9825882"
                },
                {
                  "0": "4.6299543"
                },
                {
                  "0": "2.8364582"
                },
                {
                  "0": "6.9139943"
                },
                {
                  "0": "5.142884"
                },
                {
                  "0": "6.217455"
                },
                {
                  "0": "3.0251036"
                },
                {
                  "0": "3.433903"
                },
                {
                  "0": "4.3501205"
                },
                {
                  "0": "2.9354653"
                },
                {
                  "0": "3.4122112"
                },
                {
                  "0": "4.8385806"
                },
                {
                  "0": "5.710963"
                },
                {
                  "0": "4.702783"
                },
                {
                  "0": "5.223431"
                },
                {
                  "0": "5.7231245"
                },
                {
                  "0": "7.2290435"
                },
                {
                  "0": "5.081918"
                },
                {
                  "0": "9.580008"
                },
                {
                  "0": "5.680177"
                },
                {
                  "0": "5.337049"
                },
                {
                  "0": "8.11"
                },
                {
                  "0": "5.824838"
                },
                {
                  "0": "5.882172"
                },
                {
                  "0": "5.917121"
                },
                {
                  "0": "5.163102"
                },
                {
                  "0": "3.66286"
                },
                {
                  "0": "3.857521"
                },
                {
                  "0": "5.7811556"
                },
                {
                  "0": "4.9299483"
                },
                {
                  "0": "4.1576056"
                },
                {
                  "0": "5.639421"
                },
                {
                  "0": "4.60442"
                },
                {
                  "0": "6.3913455"
                },
                {
                  "0": "3.6297357"
                },
                {
                  "0": "5.106078"
                },
                {
                  "0": "7.074685"
                },
                {
                  "0": "3.0173962"
                },
                {
                  "0": "5.751514"
                },
                {
                  "0": "5.5527782"
                },
                {
                  "0": "5.589876"
                },
                {
                  "0": "6.743275"
                },
                {
                  "0": "6.141867"
                },
                {
                  "0": "6.2868085"
                },
                {
                  "0": "6.929982"
                },
                {
                  "0": "5.8770876"
                },
                {
                  "0": "5.8906"
                },
                {
                  "0": "6.9531074"
                },
                {
                  "0": "5.7324204"
                },
                {
                  "0": "4.3420296"
                },
                {
                  "0": "3.7627187"
                },
                {
                  "0": "4.6954627"
                },
                {
                  "0": "5.657013"
                },
                {
                  "0": "4.6769137"
                },
                {
                  "0": "3.6050744"
                },
                {
                  "0": "4.7455134"
                },
                {
                  "0": "3.852743"
                },
                {
                  "0": "4.538007"
                },
                {
                  "0": "5.9591937"
                },
                {
                  "0": "3.9410968"
                },
                {
                  "0": "5.439576"
                },
                {
                  "0": "7.1846433"
                },
                {
                  "0": "8.351765"
                }
              ],
              "schema": [
                {
                  "key": "0",
                  "name": "mean",
                  "type": "float"
                }
              ],
              "truncated": false
            },
            "isSummary": false,
            "language": "scala"
          },
          "persist_state": {
            "view": {
              "type": "details",
              "tableOptions": {},
              "chartOptions": {
                "chartType": "bar",
                "aggregationType": "sum",
                "categoryFieldKeys": [],
                "seriesFieldKeys": [
                  "0"
                ],
                "isStacked": false
              }
            }
          }
        }
      }
    }
  },
  "nbformat": 4,
  "nbformat_minor": 2
}