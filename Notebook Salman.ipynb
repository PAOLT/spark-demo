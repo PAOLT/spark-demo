{
  "cells": [
    {
      "cell_type": "code",
      "source": [
        "# test cell\r\n",
        "print(\"hey!\")"
      ],
      "outputs": [
        {
          "output_type": "display_data",
          "data": {
            "application/vnd.livy.statement-meta+json": {
              "spark_pool": "large",
              "session_id": "2",
              "statement_id": 2,
              "state": "finished",
              "livy_statement_state": "available",
              "queued_time": "2022-11-01T14:40:51.9084031Z",
              "session_start_time": "2022-11-01T14:40:51.9505225Z",
              "execution_start_time": "2022-11-01T14:40:52.1130039Z",
              "execution_finish_time": "2022-11-01T14:40:52.2855051Z",
              "spark_jobs": null
            },
            "text/plain": "StatementMeta(large, 2, 2, Finished, Available)"
          },
          "metadata": {}
        },
        {
          "output_type": "stream",
          "name": "stdout",
          "text": [
            "hey!\n"
          ]
        }
      ],
      "execution_count": 2,
      "metadata": {}
    },
    {
      "cell_type": "code",
      "source": [
        "# test cell 2\r\n",
        "print(\"hey hey!\")"
      ],
      "outputs": [
        {
          "output_type": "display_data",
          "data": {
            "application/vnd.livy.statement-meta+json": {
              "spark_pool": "large",
              "session_id": "2",
              "statement_id": 4,
              "state": "finished",
              "livy_statement_state": "available",
              "queued_time": "2022-11-01T14:41:11.7850061Z",
              "session_start_time": null,
              "execution_start_time": "2022-11-01T14:41:11.914037Z",
              "execution_finish_time": "2022-11-01T14:41:12.0933891Z",
              "spark_jobs": null
            },
            "text/plain": "StatementMeta(large, 2, 4, Finished, Available)"
          },
          "metadata": {}
        },
        {
          "output_type": "stream",
          "name": "stdout",
          "text": [
            "hey hey!\n"
          ]
        }
      ],
      "execution_count": 4,
      "metadata": {
        "jupyter": {
          "source_hidden": false,
          "outputs_hidden": false
        },
        "nteract": {
          "transient": {
            "deleting": false
          }
        }
      }
    }
  ],
  "metadata": {
    "kernelspec": {
      "name": "synapse_pyspark",
      "language": "Python",
      "display_name": "Synapse PySpark"
    },
    "language_info": {
      "name": "python"
    },
    "kernel_info": {
      "name": "synapse_pyspark"
    },
    "save_output": true,
    "synapse_widget": {
      "version": "0.1",
      "state": {}
    }
  },
  "nbformat": 4,
  "nbformat_minor": 2
}