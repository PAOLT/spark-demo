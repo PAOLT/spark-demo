{
  "cells": [
    {
      "cell_type": "markdown",
      "source": [
        "# Spark pools demo"
      ],
      "metadata": {
        "nteract": {
          "transient": {
            "deleting": false
          }
        }
      }
    },
    {
      "cell_type": "code",
      "source": [
        "from pyspark.sql.types import FloatType\r\n",
        "from pyspark.sql.functions import col, udf, lit"
      ],
      "outputs": [
        {
          "output_type": "display_data",
          "data": {
            "application/vnd.livy.statement-meta+json": {
              "spark_pool": "large",
              "session_id": "6",
              "statement_id": 1,
              "state": "finished",
              "livy_statement_state": "available",
              "queued_time": "2022-11-02T11:59:07.1777032Z",
              "session_start_time": "2022-11-02T11:59:07.2261279Z",
              "execution_start_time": "2022-11-02T12:02:19.9072693Z",
              "execution_finish_time": "2022-11-02T12:02:20.0827673Z",
              "spark_jobs": null
            },
            "text/plain": "StatementMeta(large, 6, 1, Finished, Available)"
          },
          "metadata": {}
        }
      ],
      "execution_count": 1,
      "metadata": {
        "jupyter": {
          "source_hidden": false,
          "outputs_hidden": false
        },
        "nteract": {
          "transient": {
            "deleting": false
          }
        }
      }
    },
    {
      "cell_type": "markdown",
      "source": [
        "#### Spark Session\r\n",
        "*spark* is the spark session, that provides access to Spark resources\r\n",
        "*df* is a Spark Dataframe. "
      ],
      "metadata": {
        "nteract": {
          "transient": {
            "deleting": false
          }
        }
      }
    },
    {
      "cell_type": "code",
      "source": [
        "df = spark.read.load('abfss://data@paoltadls.dfs.core.windows.net/open-datasets/weatherAUS.csv', format='csv', header=True)"
      ],
      "outputs": [
        {
          "output_type": "display_data",
          "data": {
            "application/vnd.livy.statement-meta+json": {
              "spark_pool": "small",
              "session_id": 3,
              "statement_id": 3,
              "state": "finished",
              "livy_statement_state": "available",
              "queued_time": "2022-04-27T08:39:40.7389101Z",
              "session_start_time": null,
              "execution_start_time": "2022-04-27T08:39:40.878047Z",
              "execution_finish_time": "2022-04-27T08:39:42.0312447Z"
            },
            "text/plain": "StatementMeta(small, 3, 3, Finished, Available)"
          },
          "metadata": {}
        }
      ],
      "execution_count": 2,
      "metadata": {
        "jupyter": {
          "source_hidden": false,
          "outputs_hidden": false
        },
        "nteract": {
          "transient": {
            "deleting": false
          }
        },
        "microsoft": {},
        "collapsed": false
      }
    },
    {
      "cell_type": "code",
      "source": [
        "display(df.limit(10))"
      ],
      "outputs": [
        {
          "output_type": "display_data",
          "data": {
            "application/vnd.livy.statement-meta+json": {
              "spark_pool": "small",
              "session_id": 3,
              "statement_id": 4,
              "state": "finished",
              "livy_statement_state": "available",
              "queued_time": "2022-04-27T08:39:43.6883677Z",
              "session_start_time": null,
              "execution_start_time": "2022-04-27T08:39:43.7916384Z",
              "execution_finish_time": "2022-04-27T08:39:45.7026759Z"
            },
            "text/plain": "StatementMeta(small, 3, 4, Finished, Available)"
          },
          "metadata": {}
        },
        {
          "output_type": "display_data",
          "data": {
            "application/vnd.synapse.widget-view+json": {
              "widget_id": "034fcb5a-d941-4266-8c1c-ebf58a4c243e",
              "widget_type": "Synapse.DataFrame"
            },
            "text/plain": "SynapseWidget(Synapse.DataFrame, 034fcb5a-d941-4266-8c1c-ebf58a4c243e)"
          },
          "metadata": {}
        }
      ],
      "execution_count": 3,
      "metadata": {
        "jupyter": {
          "source_hidden": false,
          "outputs_hidden": false
        },
        "nteract": {
          "transient": {
            "deleting": false
          }
        },
        "collapsed": false
      }
    },
    {
      "cell_type": "code",
      "source": [
        "df.count()"
      ],
      "outputs": [
        {
          "output_type": "display_data",
          "data": {
            "application/vnd.livy.statement-meta+json": {
              "spark_pool": "small",
              "session_id": 3,
              "statement_id": 7,
              "state": "finished",
              "livy_statement_state": "available",
              "queued_time": "2022-04-27T08:42:39.1513977Z",
              "session_start_time": null,
              "execution_start_time": "2022-04-27T08:42:39.275145Z",
              "execution_finish_time": "2022-04-27T08:42:40.3280857Z"
            },
            "text/plain": "StatementMeta(small, 3, 7, Finished, Available)"
          },
          "metadata": {}
        },
        {
          "output_type": "display_data",
          "data": {
            "text/plain": "145460"
          },
          "metadata": {}
        }
      ],
      "execution_count": 6,
      "metadata": {
        "jupyter": {
          "source_hidden": false,
          "outputs_hidden": false
        },
        "nteract": {
          "transient": {
            "deleting": false
          }
        }
      }
    },
    {
      "cell_type": "code",
      "source": [
        "df.describe"
      ],
      "outputs": [
        {
          "output_type": "display_data",
          "data": {
            "application/vnd.livy.statement-meta+json": {
              "spark_pool": "small",
              "session_id": 3,
              "statement_id": 31,
              "state": "finished",
              "livy_statement_state": "available",
              "queued_time": "2022-04-27T09:05:42.1716473Z",
              "session_start_time": null,
              "execution_start_time": "2022-04-27T09:05:42.2878987Z",
              "execution_finish_time": "2022-04-27T09:05:42.4334827Z"
            },
            "text/plain": "StatementMeta(small, 3, 31, Finished, Available)"
          },
          "metadata": {}
        },
        {
          "output_type": "display_data",
          "data": {
            "text/plain": "<bound method DataFrame.describe of DataFrame[Date: string, Location: string, MinTemp: string, MaxTemp: string, Rainfall: string, Evaporation: string, Sunshine: string, WindGustDir: string, WindGustSpeed: string, WindDir9am: string, WindDir3pm: string, WindSpeed9am: string, WindSpeed3pm: string, Humidity9am: string, Humidity3pm: string, Pressure9am: string, Pressure3pm: string, Cloud9am: string, Cloud3pm: string, Temp9am: string, Temp3pm: string, RainToday: string, RainTomorrow: string]>"
          },
          "metadata": {}
        }
      ],
      "execution_count": 30,
      "metadata": {
        "jupyter": {
          "source_hidden": false,
          "outputs_hidden": false
        },
        "nteract": {
          "transient": {
            "deleting": false
          }
        }
      }
    },
    {
      "cell_type": "markdown",
      "source": [
        "#### Lazy vs concrete operations\r\n",
        "The following statement is lazy.\r\n",
        "It is actully executed when we display it (or write etc.).\r\n",
        "\r\n",
        "Note that reading a CSV file as above is not lazy, and data is actually loaded to memory, as CSV has not metadata available to describe the data structure"
      ],
      "metadata": {
        "nteract": {
          "transient": {
            "deleting": false
          }
        }
      }
    },
    {
      "cell_type": "code",
      "source": [
        "df_agg = df \\\r\n",
        ".withColumn(\"MaxTemp\",df.MaxTemp.cast(FloatType())) \\\r\n",
        ".withColumn(\"MinTemp\",df.MinTemp.cast(FloatType())) \\\r\n",
        ".select([\"Location\", \"MinTemp\", \"MaxTemp\"]) \\\r\n",
        ".groupBy(\"Location\") \\\r\n",
        ". avg()\r\n"
      ],
      "outputs": [
        {
          "output_type": "display_data",
          "data": {
            "application/vnd.livy.statement-meta+json": {
              "spark_pool": "small",
              "session_id": 3,
              "statement_id": 29,
              "state": "finished",
              "livy_statement_state": "available",
              "queued_time": "2022-04-27T08:59:37.9937762Z",
              "session_start_time": null,
              "execution_start_time": "2022-04-27T08:59:38.101905Z",
              "execution_finish_time": "2022-04-27T08:59:38.255512Z"
            },
            "text/plain": "StatementMeta(small, 3, 29, Finished, Available)"
          },
          "metadata": {}
        }
      ],
      "execution_count": 28,
      "metadata": {
        "jupyter": {
          "source_hidden": false,
          "outputs_hidden": false
        },
        "nteract": {
          "transient": {
            "deleting": false
          }
        },
        "collapsed": false
      }
    },
    {
      "cell_type": "code",
      "source": [
        "display(df_agg)"
      ],
      "outputs": [
        {
          "output_type": "display_data",
          "data": {
            "application/vnd.livy.statement-meta+json": {
              "spark_pool": "small",
              "session_id": 3,
              "statement_id": 30,
              "state": "finished",
              "livy_statement_state": "available",
              "queued_time": "2022-04-27T08:59:50.4410438Z",
              "session_start_time": null,
              "execution_start_time": "2022-04-27T08:59:50.575486Z",
              "execution_finish_time": "2022-04-27T08:59:52.4049988Z"
            },
            "text/plain": "StatementMeta(small, 3, 30, Finished, Available)"
          },
          "metadata": {}
        },
        {
          "output_type": "display_data",
          "data": {
            "application/vnd.synapse.widget-view+json": {
              "widget_id": "09673454-5d76-45de-a4e0-b73a150e39b9",
              "widget_type": "Synapse.DataFrame"
            },
            "text/plain": "SynapseWidget(Synapse.DataFrame, 09673454-5d76-45de-a4e0-b73a150e39b9)"
          },
          "metadata": {}
        }
      ],
      "execution_count": 29,
      "metadata": {
        "jupyter": {
          "source_hidden": false,
          "outputs_hidden": false
        },
        "nteract": {
          "transient": {
            "deleting": false
          }
        },
        "collapsed": false
      }
    },
    {
      "cell_type": "code",
      "source": [
        "import pyspark.sql.functions as F\r\n",
        "\r\n",
        "df = df.withColumn(\"MinMaxTemp\", F.udf(lambda x, y: f(x,y))(\"MinTemp\", \"MaxTemp\"))\r\n",
        "display(df)"
      ],
      "outputs": [],
      "execution_count": null,
      "metadata": {
        "jupyter": {
          "source_hidden": false,
          "outputs_hidden": false
        },
        "nteract": {
          "transient": {
            "deleting": false
          }
        }
      }
    },
    {
      "cell_type": "markdown",
      "source": [
        "#### Data distribution\r\n",
        "\r\n",
        "*df* is a distributed object - it is stored to cluster nodes memory"
      ],
      "metadata": {
        "nteract": {
          "transient": {
            "deleting": false
          }
        }
      }
    },
    {
      "cell_type": "code",
      "source": [
        "df.rdd.getNumPartitions()"
      ],
      "outputs": [
        {
          "output_type": "display_data",
          "data": {
            "application/vnd.livy.statement-meta+json": {
              "spark_pool": "small",
              "session_id": 3,
              "statement_id": 32,
              "state": "finished",
              "livy_statement_state": "available",
              "queued_time": "2022-04-27T09:11:29.8752212Z",
              "session_start_time": null,
              "execution_start_time": "2022-04-27T09:11:30.0097828Z",
              "execution_finish_time": "2022-04-27T09:11:30.1485354Z"
            },
            "text/plain": "StatementMeta(small, 3, 32, Finished, Available)"
          },
          "metadata": {}
        },
        {
          "output_type": "display_data",
          "data": {
            "text/plain": "4"
          },
          "metadata": {}
        }
      ],
      "execution_count": 31,
      "metadata": {
        "jupyter": {
          "source_hidden": false,
          "outputs_hidden": false
        },
        "nteract": {
          "transient": {
            "deleting": false
          }
        }
      }
    },
    {
      "cell_type": "code",
      "source": [
        "df.repartition(8).rdd.getNumPartitions()"
      ],
      "outputs": [
        {
          "output_type": "display_data",
          "data": {
            "application/vnd.livy.statement-meta+json": {
              "spark_pool": "small",
              "session_id": 3,
              "statement_id": 33,
              "state": "finished",
              "livy_statement_state": "available",
              "queued_time": "2022-04-27T09:15:16.3084274Z",
              "session_start_time": null,
              "execution_start_time": "2022-04-27T09:15:16.4415601Z",
              "execution_finish_time": "2022-04-27T09:15:16.592558Z"
            },
            "text/plain": "StatementMeta(small, 3, 33, Finished, Available)"
          },
          "metadata": {}
        },
        {
          "output_type": "display_data",
          "data": {
            "text/plain": "8"
          },
          "metadata": {}
        }
      ],
      "execution_count": 32,
      "metadata": {
        "jupyter": {
          "source_hidden": false,
          "outputs_hidden": false
        },
        "nteract": {
          "transient": {
            "deleting": false
          }
        }
      }
    },
    {
      "cell_type": "markdown",
      "source": [
        "Depending on the use case, we might be willing to repartition by a certain columns, e.g., to optimize some join/where statements. "
      ],
      "metadata": {
        "nteract": {
          "transient": {
            "deleting": false
          }
        }
      }
    },
    {
      "cell_type": "code",
      "source": [
        "df=df.repartition('Location')"
      ],
      "outputs": [
        {
          "output_type": "display_data",
          "data": {
            "application/vnd.livy.statement-meta+json": {
              "spark_pool": "small",
              "session_id": 3,
              "statement_id": 37,
              "state": "finished",
              "livy_statement_state": "available",
              "queued_time": "2022-04-27T09:16:01.535497Z",
              "session_start_time": null,
              "execution_start_time": "2022-04-27T09:16:01.6443747Z",
              "execution_finish_time": "2022-04-27T09:16:01.795371Z"
            },
            "text/plain": "StatementMeta(small, 3, 37, Finished, Available)"
          },
          "metadata": {}
        }
      ],
      "execution_count": 36,
      "metadata": {
        "jupyter": {
          "source_hidden": false,
          "outputs_hidden": false
        },
        "nteract": {
          "transient": {
            "deleting": false
          }
        }
      }
    },
    {
      "cell_type": "code",
      "source": [
        "df.rdd.getNumPartitions()"
      ],
      "outputs": [
        {
          "output_type": "display_data",
          "data": {
            "application/vnd.livy.statement-meta+json": {
              "spark_pool": "small",
              "session_id": 3,
              "statement_id": 38,
              "state": "finished",
              "livy_statement_state": "available",
              "queued_time": "2022-04-27T09:16:05.5175357Z",
              "session_start_time": null,
              "execution_start_time": "2022-04-27T09:16:05.6111864Z",
              "execution_finish_time": "2022-04-27T09:16:05.838496Z"
            },
            "text/plain": "StatementMeta(small, 3, 38, Finished, Available)"
          },
          "metadata": {}
        },
        {
          "output_type": "display_data",
          "data": {
            "text/plain": "200"
          },
          "metadata": {}
        }
      ],
      "execution_count": 37,
      "metadata": {
        "jupyter": {
          "source_hidden": false,
          "outputs_hidden": false
        },
        "nteract": {
          "transient": {
            "deleting": false
          }
        }
      }
    },
    {
      "cell_type": "markdown",
      "source": [
        "The *cache()* statement keeps that repartitioned df in memory... remember repartitioning is a heavy operstion that we usually perform depending on the specific use case."
      ],
      "metadata": {
        "nteract": {
          "transient": {
            "deleting": false
          }
        }
      }
    },
    {
      "cell_type": "code",
      "source": [
        "df.cache()"
      ],
      "outputs": [
        {
          "output_type": "display_data",
          "data": {
            "application/vnd.livy.statement-meta+json": {
              "spark_pool": "small",
              "session_id": 3,
              "statement_id": 46,
              "state": "finished",
              "livy_statement_state": "available",
              "queued_time": "2022-04-27T09:25:42.0405586Z",
              "session_start_time": null,
              "execution_start_time": "2022-04-27T09:25:42.1705934Z",
              "execution_finish_time": "2022-04-27T09:25:42.332241Z"
            },
            "text/plain": "StatementMeta(small, 3, 46, Finished, Available)"
          },
          "metadata": {}
        },
        {
          "output_type": "display_data",
          "data": {
            "text/plain": "DataFrame[Date: string, MinTemp: string, MaxTemp: string, Rainfall: string, Evaporation: string, Sunshine: string, WindGustDir: string, WindGustSpeed: string, WindDir9am: string, WindDir3pm: string, WindSpeed9am: string, WindSpeed3pm: string, Humidity9am: string, Humidity3pm: string, Pressure9am: string, Pressure3pm: string, Cloud9am: string, Cloud3pm: string, Temp9am: string, Temp3pm: string, RainToday: string, RainTomorrow: string, Location: string]"
          },
          "metadata": {}
        }
      ],
      "execution_count": 45,
      "metadata": {
        "jupyter": {
          "source_hidden": false,
          "outputs_hidden": false
        },
        "nteract": {
          "transient": {
            "deleting": false
          }
        }
      }
    },
    {
      "cell_type": "markdown",
      "source": [
        "We can specify a partitioning column when writing to disk. It doesn't necessary be the same as the one we are using for the dataframe... that one depends on use cases!"
      ],
      "metadata": {
        "nteract": {
          "transient": {
            "deleting": false
          }
        }
      }
    },
    {
      "cell_type": "code",
      "source": [
        "df.write \\\r\n",
        ".partitionBy('Location') \\\r\n",
        ".mode('overwrite') \\\r\n",
        ".parquet('abfss://data@paoltadls.dfs.core.windows.net/open-datasets/weatherPAR')"
      ],
      "outputs": [
        {
          "output_type": "display_data",
          "data": {
            "application/vnd.livy.statement-meta+json": {
              "spark_pool": "small",
              "session_id": 3,
              "statement_id": 43,
              "state": "finished",
              "livy_statement_state": "available",
              "queued_time": "2022-04-27T09:18:25.0171542Z",
              "session_start_time": null,
              "execution_start_time": "2022-04-27T09:18:25.1094157Z",
              "execution_finish_time": "2022-04-27T09:18:32.026393Z"
            },
            "text/plain": "StatementMeta(small, 3, 43, Finished, Available)"
          },
          "metadata": {}
        }
      ],
      "execution_count": 42,
      "metadata": {
        "jupyter": {
          "source_hidden": false,
          "outputs_hidden": false
        },
        "nteract": {
          "transient": {
            "deleting": false
          }
        }
      }
    },
    {
      "cell_type": "code",
      "source": [
        "df = spark.read.load('abfss://data@paoltadls.dfs.core.windows.net/open-datasets/weatherPAR')"
      ],
      "outputs": [
        {
          "output_type": "display_data",
          "data": {
            "application/vnd.livy.statement-meta+json": {
              "spark_pool": "small",
              "session_id": 3,
              "statement_id": 44,
              "state": "finished",
              "livy_statement_state": "available",
              "queued_time": "2022-04-27T09:19:13.512318Z",
              "session_start_time": null,
              "execution_start_time": "2022-04-27T09:19:13.6173667Z",
              "execution_finish_time": "2022-04-27T09:19:14.6765512Z"
            },
            "text/plain": "StatementMeta(small, 3, 44, Finished, Available)"
          },
          "metadata": {}
        }
      ],
      "execution_count": 43,
      "metadata": {
        "jupyter": {
          "source_hidden": false,
          "outputs_hidden": false
        },
        "nteract": {
          "transient": {
            "deleting": false
          }
        }
      }
    },
    {
      "cell_type": "markdown",
      "source": [
        "Note when re-reading the number of partitions is higher (there are 200 partitions on disk, however, the number of partitions in memory depends on the number of actual workers)."
      ],
      "metadata": {
        "nteract": {
          "transient": {
            "deleting": false
          }
        }
      }
    },
    {
      "cell_type": "code",
      "source": [
        "df.rdd.getNumPartitions()"
      ],
      "outputs": [
        {
          "output_type": "display_data",
          "data": {
            "application/vnd.livy.statement-meta+json": {
              "spark_pool": "small",
              "session_id": 3,
              "statement_id": 45,
              "state": "finished",
              "livy_statement_state": "available",
              "queued_time": "2022-04-27T09:19:35.3057508Z",
              "session_start_time": null,
              "execution_start_time": "2022-04-27T09:19:35.4111484Z",
              "execution_finish_time": "2022-04-27T09:19:35.5676466Z"
            },
            "text/plain": "StatementMeta(small, 3, 45, Finished, Available)"
          },
          "metadata": {}
        },
        {
          "output_type": "display_data",
          "data": {
            "text/plain": "7"
          },
          "metadata": {}
        }
      ],
      "execution_count": 44,
      "metadata": {
        "jupyter": {
          "source_hidden": false,
          "outputs_hidden": false
        },
        "nteract": {
          "transient": {
            "deleting": false
          }
        }
      }
    },
    {
      "cell_type": "markdown",
      "source": [
        "It is easy to transform Spark Dataframes to **Pandas Dataframes**, however, they will run in the **application driver** memory space!\r\n",
        "On the contrary, Spark Dataframes run in the cluster's memory (i.e., they are distributed objects)."
      ],
      "metadata": {
        "nteract": {
          "transient": {
            "deleting": false
          }
        }
      }
    },
    {
      "cell_type": "code",
      "source": [
        "pdf = df.limit(100).toPandas()"
      ],
      "outputs": [
        {
          "output_type": "display_data",
          "data": {
            "application/vnd.livy.statement-meta+json": {
              "spark_pool": "small",
              "session_id": 3,
              "statement_id": 10,
              "state": "finished",
              "livy_statement_state": "available",
              "queued_time": "2022-04-27T08:45:19.2116441Z",
              "session_start_time": null,
              "execution_start_time": "2022-04-27T08:45:19.329357Z",
              "execution_finish_time": "2022-04-27T08:45:21.1624424Z"
            },
            "text/plain": "StatementMeta(small, 3, 10, Finished, Available)"
          },
          "metadata": {}
        }
      ],
      "execution_count": 9,
      "metadata": {
        "jupyter": {
          "source_hidden": false,
          "outputs_hidden": false
        },
        "nteract": {
          "transient": {
            "deleting": false
          }
        }
      }
    },
    {
      "cell_type": "code",
      "source": [
        "pdf.rdd.getNumPartitions()"
      ],
      "outputs": [
        {
          "output_type": "display_data",
          "data": {
            "application/vnd.livy.statement-meta+json": {
              "spark_pool": "small",
              "session_id": 3,
              "statement_id": 47,
              "state": "finished",
              "livy_statement_state": "available",
              "queued_time": "2022-04-27T09:27:34.8527276Z",
              "session_start_time": null,
              "execution_start_time": "2022-04-27T09:27:34.9576013Z",
              "execution_finish_time": "2022-04-27T09:27:35.1100427Z"
            },
            "text/plain": "StatementMeta(small, 3, 47, Finished, Available)"
          },
          "metadata": {}
        },
        {
          "output_type": "error",
          "ename": "AttributeError",
          "evalue": "'DataFrame' object has no attribute 'rdd'",
          "traceback": [
            "AttributeError: 'DataFrame' object has no attribute 'rdd'",
            "Traceback (most recent call last):\n",
            "  File \"/home/trusted-service-user/cluster-env/env/lib/python3.8/site-packages/pandas/core/generic.py\", line 5465, in __getattr__\n    return object.__getattribute__(self, name)\n",
            "AttributeError: 'DataFrame' object has no attribute 'rdd'\n"
          ]
        }
      ],
      "execution_count": 46,
      "metadata": {
        "jupyter": {
          "source_hidden": false,
          "outputs_hidden": false
        },
        "nteract": {
          "transient": {
            "deleting": false
          }
        }
      }
    },
    {
      "cell_type": "code",
      "source": [
        "#### Using UDF\r\n",
        "UDF provides a lot of flexibility..."
      ],
      "outputs": [],
      "execution_count": null,
      "metadata": {
        "jupyter": {
          "source_hidden": false,
          "outputs_hidden": false
        },
        "nteract": {
          "transient": {
            "deleting": false
          }
        }
      }
    },
    {
      "cell_type": "code",
      "source": [
        "def avgTemp (temp1, temp2) -> float:\r\n",
        "    try:\r\n",
        "        temp1 = float(temp1)\r\n",
        "        temp2 = float(temp2)\r\n",
        "        return (temp1+temp2)/2.0\r\n",
        "\r\n",
        "    except:\r\n",
        "        return None\r\n",
        "\r\n",
        "print(avgTemp(2.1,'4.8'))\r\n",
        "print(avgTemp(2.1,\"four dot eight\"))"
      ],
      "outputs": [
        {
          "output_type": "display_data",
          "data": {
            "application/vnd.livy.statement-meta+json": {
              "spark_pool": "small",
              "session_id": 3,
              "statement_id": 76,
              "state": "finished",
              "livy_statement_state": "available",
              "queued_time": "2022-04-27T09:41:38.2573133Z",
              "session_start_time": null,
              "execution_start_time": "2022-04-27T09:41:38.7292898Z",
              "execution_finish_time": "2022-04-27T09:41:38.876711Z"
            },
            "text/plain": "StatementMeta(small, 3, 76, Finished, Available)"
          },
          "metadata": {}
        },
        {
          "output_type": "stream",
          "name": "stdout",
          "text": [
            "3.45\nNone"
          ]
        }
      ],
      "execution_count": 75,
      "metadata": {
        "jupyter": {
          "source_hidden": false,
          "outputs_hidden": false
        },
        "nteract": {
          "transient": {
            "deleting": false
          }
        }
      }
    },
    {
      "cell_type": "code",
      "source": [
        "avgTempUDF = udf(lambda x,y:avgTemp(x,y),FloatType())   \r\n",
        "\r\n",
        "df \\\r\n",
        ".withColumn(\"AvgTemp\", avgTempUDF(col(\"MinTemp\"), col(\"MaxTemp\"))) \\\r\n",
        ".select([\"Location\", \"MinTemp\", \"MaxTemp\", \"AvgTemp\"]) \\\r\n",
        ".show(truncate=False)"
      ],
      "outputs": [
        {
          "output_type": "display_data",
          "data": {
            "application/vnd.livy.statement-meta+json": {
              "spark_pool": "small",
              "session_id": 3,
              "statement_id": 78,
              "state": "finished",
              "livy_statement_state": "available",
              "queued_time": "2022-04-27T09:42:35.8833529Z",
              "session_start_time": null,
              "execution_start_time": "2022-04-27T09:42:35.9854441Z",
              "execution_finish_time": "2022-04-27T09:42:37.1166467Z"
            },
            "text/plain": "StatementMeta(small, 3, 78, Finished, Available)"
          },
          "metadata": {}
        },
        {
          "output_type": "stream",
          "name": "stdout",
          "text": [
            "+--------+-------+-------+-------+\n|Location|MinTemp|MaxTemp|AvgTemp|\n+--------+-------+-------+-------+\n|Canberra|8      |24.3   |16.15  |\n|Canberra|14     |26.9   |20.45  |\n|Canberra|13.7   |23.4   |18.55  |\n|Canberra|13.3   |15.5   |14.4   |\n|Canberra|7.6    |16.1   |11.85  |\n|Canberra|6.2    |16.9   |11.55  |\n|Canberra|6.1    |18.2   |12.15  |\n|Canberra|8.3    |17     |12.65  |\n|Canberra|8.8    |19.5   |14.15  |\n|Canberra|8.4    |22.8   |15.6   |\n|Canberra|9.1    |25.2   |17.15  |\n|Canberra|8.5    |27.3   |17.9   |\n|Canberra|10.1   |27.9   |19.0   |\n|Canberra|12.1   |30.9   |21.5   |\n|Canberra|10.1   |31.2   |20.65  |\n|Canberra|12.4   |32.1   |22.25  |\n|Canberra|13.8   |31.2   |22.5   |\n|Canberra|11.7   |30     |20.85  |\n|Canberra|12.4   |32.3   |22.35  |\n|Canberra|15.6   |33.4   |24.5   |\n+--------+-------+-------+-------+\nonly showing top 20 rows"
          ]
        }
      ],
      "execution_count": 77,
      "metadata": {
        "jupyter": {
          "source_hidden": false,
          "outputs_hidden": false
        },
        "nteract": {
          "transient": {
            "deleting": false
          }
        }
      }
    },
    {
      "cell_type": "markdown",
      "source": [
        "However.... native functions provide better performance!"
      ],
      "metadata": {
        "nteract": {
          "transient": {
            "deleting": false
          }
        }
      }
    },
    {
      "cell_type": "code",
      "source": [
        "df = df \\\r\n",
        ".withColumn(\"MaxTemp\",df.MaxTemp.cast(FloatType())) \\\r\n",
        ".withColumn(\"MinTemp\",df.MinTemp.cast(FloatType())) \\\r\n",
        "\r\n",
        "df.withColumn(\"AvgTemp\", (df[\"MinTemp\"] + df[\"MaxTemp\"])/lit(2.0)) \\\r\n",
        ".select([\"Location\", \"MinTemp\", \"MaxTemp\", \"AvgTemp\"]) \\\r\n",
        ".show()\r\n"
      ],
      "outputs": [
        {
          "output_type": "display_data",
          "data": {
            "application/vnd.livy.statement-meta+json": {
              "spark_pool": "small",
              "session_id": 3,
              "statement_id": 87,
              "state": "finished",
              "livy_statement_state": "available",
              "queued_time": "2022-04-27T09:56:16.3274205Z",
              "session_start_time": null,
              "execution_start_time": "2022-04-27T09:56:16.4446833Z",
              "execution_finish_time": "2022-04-27T09:56:16.5886764Z"
            },
            "text/plain": "StatementMeta(small, 3, 87, Finished, Available)"
          },
          "metadata": {}
        },
        {
          "output_type": "stream",
          "name": "stdout",
          "text": [
            "+--------+-------+-------+------------------+\n|Location|MinTemp|MaxTemp|           AvgTemp|\n+--------+-------+-------+------------------+\n|Canberra|    8.0|   24.3|16.149999618530273|\n|Canberra|   14.0|   26.9|20.450000762939453|\n|Canberra|   13.7|   23.4|18.549999237060547|\n|Canberra|   13.3|   15.5|14.399999618530273|\n|Canberra|    7.6|   16.1|11.850000381469727|\n|Canberra|    6.2|   16.9|11.549999237060547|\n|Canberra|    6.1|   18.2| 12.15000057220459|\n|Canberra|    8.3|   17.0|12.649999618530273|\n|Canberra|    8.8|   19.5|14.149999618530273|\n|Canberra|    8.4|   22.8| 15.59999942779541|\n|Canberra|    9.1|   25.2|17.150001525878906|\n|Canberra|    8.5|   27.3|17.899999618530273|\n|Canberra|   10.1|   27.9|              19.0|\n|Canberra|   12.1|   30.9|              21.5|\n|Canberra|   10.1|   31.2|20.650001525878906|\n|Canberra|   12.4|   32.1|             22.25|\n|Canberra|   13.8|   31.2|              22.5|\n|Canberra|   11.7|   30.0|20.850000381469727|\n|Canberra|   12.4|   32.3|22.349998474121094|\n|Canberra|   15.6|   33.4|              24.5|\n+--------+-------+-------+------------------+\nonly showing top 20 rows"
          ]
        }
      ],
      "execution_count": 86,
      "metadata": {
        "jupyter": {
          "source_hidden": false,
          "outputs_hidden": false
        },
        "nteract": {
          "transient": {
            "deleting": false
          }
        }
      }
    }
  ],
  "metadata": {
    "kernelspec": {
      "name": "synapse_pyspark",
      "language": "Python",
      "display_name": "Synapse PySpark"
    },
    "language_info": {
      "name": "python"
    },
    "kernel_info": {
      "name": "synapse_pyspark"
    },
    "description": null,
    "save_output": true,
    "synapse_widget": {
      "version": "0.1",
      "state": {
        "034fcb5a-d941-4266-8c1c-ebf58a4c243e": {
          "type": "Synapse.DataFrame",
          "sync_state": {
            "table": {
              "rows": [
                {
                  "0": "2008-12-01",
                  "1": "Albury",
                  "2": "13.4",
                  "3": "22.9",
                  "4": "0.6",
                  "5": "NA",
                  "6": "NA",
                  "7": "W",
                  "8": "44",
                  "9": "W",
                  "10": "WNW",
                  "11": "20",
                  "12": "24",
                  "13": "71",
                  "14": "22",
                  "15": "1007.7",
                  "16": "1007.1",
                  "17": "8",
                  "18": "NA",
                  "19": "16.9",
                  "20": "21.8",
                  "21": "No",
                  "22": "No"
                },
                {
                  "0": "2008-12-02",
                  "1": "Albury",
                  "2": "7.4",
                  "3": "25.1",
                  "4": "0",
                  "5": "NA",
                  "6": "NA",
                  "7": "WNW",
                  "8": "44",
                  "9": "NNW",
                  "10": "WSW",
                  "11": "4",
                  "12": "22",
                  "13": "44",
                  "14": "25",
                  "15": "1010.6",
                  "16": "1007.8",
                  "17": "NA",
                  "18": "NA",
                  "19": "17.2",
                  "20": "24.3",
                  "21": "No",
                  "22": "No"
                },
                {
                  "0": "2008-12-03",
                  "1": "Albury",
                  "2": "12.9",
                  "3": "25.7",
                  "4": "0",
                  "5": "NA",
                  "6": "NA",
                  "7": "WSW",
                  "8": "46",
                  "9": "W",
                  "10": "WSW",
                  "11": "19",
                  "12": "26",
                  "13": "38",
                  "14": "30",
                  "15": "1007.6",
                  "16": "1008.7",
                  "17": "NA",
                  "18": "2",
                  "19": "21",
                  "20": "23.2",
                  "21": "No",
                  "22": "No"
                },
                {
                  "0": "2008-12-04",
                  "1": "Albury",
                  "2": "9.2",
                  "3": "28",
                  "4": "0",
                  "5": "NA",
                  "6": "NA",
                  "7": "NE",
                  "8": "24",
                  "9": "SE",
                  "10": "E",
                  "11": "11",
                  "12": "9",
                  "13": "45",
                  "14": "16",
                  "15": "1017.6",
                  "16": "1012.8",
                  "17": "NA",
                  "18": "NA",
                  "19": "18.1",
                  "20": "26.5",
                  "21": "No",
                  "22": "No"
                },
                {
                  "0": "2008-12-05",
                  "1": "Albury",
                  "2": "17.5",
                  "3": "32.3",
                  "4": "1",
                  "5": "NA",
                  "6": "NA",
                  "7": "W",
                  "8": "41",
                  "9": "ENE",
                  "10": "NW",
                  "11": "7",
                  "12": "20",
                  "13": "82",
                  "14": "33",
                  "15": "1010.8",
                  "16": "1006",
                  "17": "7",
                  "18": "8",
                  "19": "17.8",
                  "20": "29.7",
                  "21": "No",
                  "22": "No"
                },
                {
                  "0": "2008-12-06",
                  "1": "Albury",
                  "2": "14.6",
                  "3": "29.7",
                  "4": "0.2",
                  "5": "NA",
                  "6": "NA",
                  "7": "WNW",
                  "8": "56",
                  "9": "W",
                  "10": "W",
                  "11": "19",
                  "12": "24",
                  "13": "55",
                  "14": "23",
                  "15": "1009.2",
                  "16": "1005.4",
                  "17": "NA",
                  "18": "NA",
                  "19": "20.6",
                  "20": "28.9",
                  "21": "No",
                  "22": "No"
                },
                {
                  "0": "2008-12-07",
                  "1": "Albury",
                  "2": "14.3",
                  "3": "25",
                  "4": "0",
                  "5": "NA",
                  "6": "NA",
                  "7": "W",
                  "8": "50",
                  "9": "SW",
                  "10": "W",
                  "11": "20",
                  "12": "24",
                  "13": "49",
                  "14": "19",
                  "15": "1009.6",
                  "16": "1008.2",
                  "17": "1",
                  "18": "NA",
                  "19": "18.1",
                  "20": "24.6",
                  "21": "No",
                  "22": "No"
                },
                {
                  "0": "2008-12-08",
                  "1": "Albury",
                  "2": "7.7",
                  "3": "26.7",
                  "4": "0",
                  "5": "NA",
                  "6": "NA",
                  "7": "W",
                  "8": "35",
                  "9": "SSE",
                  "10": "W",
                  "11": "6",
                  "12": "17",
                  "13": "48",
                  "14": "19",
                  "15": "1013.4",
                  "16": "1010.1",
                  "17": "NA",
                  "18": "NA",
                  "19": "16.3",
                  "20": "25.5",
                  "21": "No",
                  "22": "No"
                },
                {
                  "0": "2008-12-09",
                  "1": "Albury",
                  "2": "9.7",
                  "3": "31.9",
                  "4": "0",
                  "5": "NA",
                  "6": "NA",
                  "7": "NNW",
                  "8": "80",
                  "9": "SE",
                  "10": "NW",
                  "11": "7",
                  "12": "28",
                  "13": "42",
                  "14": "9",
                  "15": "1008.9",
                  "16": "1003.6",
                  "17": "NA",
                  "18": "NA",
                  "19": "18.3",
                  "20": "30.2",
                  "21": "No",
                  "22": "Yes"
                },
                {
                  "0": "2008-12-10",
                  "1": "Albury",
                  "2": "13.1",
                  "3": "30.1",
                  "4": "1.4",
                  "5": "NA",
                  "6": "NA",
                  "7": "W",
                  "8": "28",
                  "9": "S",
                  "10": "SSE",
                  "11": "15",
                  "12": "11",
                  "13": "58",
                  "14": "27",
                  "15": "1007",
                  "16": "1005.7",
                  "17": "NA",
                  "18": "NA",
                  "19": "20.1",
                  "20": "28.2",
                  "21": "Yes",
                  "22": "No"
                }
              ],
              "schema": [
                {
                  "key": "0",
                  "name": "Date",
                  "type": "string"
                },
                {
                  "key": "1",
                  "name": "Location",
                  "type": "string"
                },
                {
                  "key": "2",
                  "name": "MinTemp",
                  "type": "string"
                },
                {
                  "key": "3",
                  "name": "MaxTemp",
                  "type": "string"
                },
                {
                  "key": "4",
                  "name": "Rainfall",
                  "type": "string"
                },
                {
                  "key": "5",
                  "name": "Evaporation",
                  "type": "string"
                },
                {
                  "key": "6",
                  "name": "Sunshine",
                  "type": "string"
                },
                {
                  "key": "7",
                  "name": "WindGustDir",
                  "type": "string"
                },
                {
                  "key": "8",
                  "name": "WindGustSpeed",
                  "type": "string"
                },
                {
                  "key": "9",
                  "name": "WindDir9am",
                  "type": "string"
                },
                {
                  "key": "10",
                  "name": "WindDir3pm",
                  "type": "string"
                },
                {
                  "key": "11",
                  "name": "WindSpeed9am",
                  "type": "string"
                },
                {
                  "key": "12",
                  "name": "WindSpeed3pm",
                  "type": "string"
                },
                {
                  "key": "13",
                  "name": "Humidity9am",
                  "type": "string"
                },
                {
                  "key": "14",
                  "name": "Humidity3pm",
                  "type": "string"
                },
                {
                  "key": "15",
                  "name": "Pressure9am",
                  "type": "string"
                },
                {
                  "key": "16",
                  "name": "Pressure3pm",
                  "type": "string"
                },
                {
                  "key": "17",
                  "name": "Cloud9am",
                  "type": "string"
                },
                {
                  "key": "18",
                  "name": "Cloud3pm",
                  "type": "string"
                },
                {
                  "key": "19",
                  "name": "Temp9am",
                  "type": "string"
                },
                {
                  "key": "20",
                  "name": "Temp3pm",
                  "type": "string"
                },
                {
                  "key": "21",
                  "name": "RainToday",
                  "type": "string"
                },
                {
                  "key": "22",
                  "name": "RainTomorrow",
                  "type": "string"
                }
              ],
              "truncated": false
            },
            "isSummary": false,
            "language": "scala"
          },
          "persist_state": {
            "view": {
              "type": "details",
              "tableOptions": {},
              "chartOptions": {
                "chartType": "bar",
                "aggregationType": "count",
                "categoryFieldKeys": [
                  "0"
                ],
                "seriesFieldKeys": [
                  "0"
                ],
                "isStacked": false
              }
            }
          }
        },
        "09673454-5d76-45de-a4e0-b73a150e39b9": {
          "type": "Synapse.DataFrame",
          "sync_state": {
            "table": {
              "rows": [
                {
                  "0": "Cairns",
                  "1": "21.22046724610048",
                  "2": "29.55884866651736"
                },
                {
                  "0": "NorfolkIsland",
                  "1": "16.871875002980232",
                  "2": "21.83025265627719"
                },
                {
                  "0": "Bendigo",
                  "1": "8.593712974263697",
                  "2": "21.62174629214568"
                },
                {
                  "0": "Walpole",
                  "1": "11.80663076164505",
                  "2": "20.45918434832206"
                },
                {
                  "0": "Canberra",
                  "1": "6.8218658905009315",
                  "2": "20.97663851281557"
                },
                {
                  "0": "Woomera",
                  "1": "13.363727121880764",
                  "2": "26.59670657502439"
                },
                {
                  "0": "Adelaide",
                  "1": "12.57950486282464",
                  "2": "22.898934159234027"
                },
                {
                  "0": "Cobar",
                  "1": "13.149450553451484",
                  "2": "25.87009314640474"
                },
                {
                  "0": "SydneyAirport",
                  "1": "14.901728703382801",
                  "2": "23.383914916132646"
                },
                {
                  "0": "PerthAirport",
                  "1": "12.580358922063077",
                  "2": "25.53323363972566"
                },
                {
                  "0": "Wollongong",
                  "1": "14.939471061485857",
                  "2": "21.468174306895325"
                },
                {
                  "0": "Williamtown",
                  "1": "12.780179585279084",
                  "2": "24.001064523885983"
                },
                {
                  "0": "Moree",
                  "1": "12.905853004105907",
                  "2": "26.95054835645651"
                },
                {
                  "0": "Mildura",
                  "1": "10.731571948490654",
                  "2": "24.840943848662853"
                },
                {
                  "0": "Portland",
                  "1": "9.586866671686371",
                  "2": "18.055053184641167"
                },
                {
                  "0": "Albany",
                  "1": "12.948438020212201",
                  "2": "20.070997998926835"
                },
                {
                  "0": "SalmonGums",
                  "1": "9.313006751332432",
                  "2": "24.25082739862547"
                },
                {
                  "0": "Brisbane",
                  "1": "16.42380653666192",
                  "2": "26.448379971089324"
                },
                {
                  "0": "Sydney",
                  "1": "14.866826354957626",
                  "2": "23.0019748549059"
                },
                {
                  "0": "Perth",
                  "1": "12.922705924311682",
                  "2": "25.03483707892865"
                },
                {
                  "0": "Sale",
                  "1": "8.56742020955983",
                  "2": "20.282280583330927"
                },
                {
                  "0": "BadgerysCreek",
                  "1": "11.13171880056952",
                  "2": "24.0312080437705"
                },
                {
                  "0": "Hobart",
                  "1": "9.078578139892425",
                  "2": "17.865726834251767"
                },
                {
                  "0": "Tuggeranong",
                  "1": "7.242132981578188",
                  "2": "20.76754530399203"
                },
                {
                  "0": "Ballarat",
                  "1": "7.367949981510875",
                  "2": "18.287265550074274"
                },
                {
                  "0": "GoldCoast",
                  "1": "17.363286140681804",
                  "2": "25.76706231454006"
                },
                {
                  "0": "MelbourneAirport",
                  "1": "9.973944840470534",
                  "2": "20.491857766708925"
                },
                {
                  "0": "Dartmoor",
                  "1": "8.620034018518771",
                  "2": "19.697454164729017"
                },
                {
                  "0": "Nhil",
                  "1": "8.999809280682049",
                  "2": "22.405152636933266"
                },
                {
                  "0": "PearceRAAF",
                  "1": "12.303850009807944",
                  "2": "26.051238285649415"
                },
                {
                  "0": "Albury",
                  "1": "9.53060416100235",
                  "2": "22.640871579122056"
                },
                {
                  "0": "Witchcliffe",
                  "1": "10.775066670169434",
                  "2": "21.68624707487794"
                },
                {
                  "0": "WaggaWagga",
                  "1": "9.617181786996813",
                  "2": "23.03187105306243"
                },
                {
                  "0": "Darwin",
                  "1": "23.209304515580484",
                  "2": "32.540977440979844"
                },
                {
                  "0": "Uluru",
                  "1": "14.466688262850374",
                  "2": "30.383195397506316"
                },
                {
                  "0": "Nuriootpa",
                  "1": "9.363242154830372",
                  "2": "21.704133343696594"
                },
                {
                  "0": "Melbourne",
                  "1": "11.77917434010961",
                  "2": "20.769358413760994"
                },
                {
                  "0": "CoffsHarbour",
                  "1": "14.437107549640602",
                  "2": "23.965384623677437"
                },
                {
                  "0": "Penrith",
                  "1": "12.57744936180576",
                  "2": "24.764366269190738"
                },
                {
                  "0": "MountGambier",
                  "1": "8.82547729249021",
                  "2": "19.8289950733719"
                },
                {
                  "0": "Katherine",
                  "1": "20.553564444954212",
                  "2": "34.93543561630348"
                },
                {
                  "0": "NorahHead",
                  "1": "15.355480838800005",
                  "2": "22.588937451555655"
                },
                {
                  "0": "MountGinini",
                  "1": "3.5772804397547717",
                  "2": "11.663675941516912"
                },
                {
                  "0": "Townsville",
                  "1": "20.417873601838114",
                  "2": "29.367160244810226"
                },
                {
                  "0": "Newcastle",
                  "1": "13.760007427741815",
                  "2": "24.101069967688915"
                },
                {
                  "0": "AliceSprings",
                  "1": "13.14228365136854",
                  "2": "29.248420005255895"
                },
                {
                  "0": "Watsonia",
                  "1": "10.131878748632904",
                  "2": "20.896078424780185"
                },
                {
                  "0": "Richmond",
                  "1": "11.364202084724582",
                  "2": "24.458664436531386"
                },
                {
                  "0": "Launceston",
                  "1": "7.836189856036918",
                  "2": "18.954911006935035"
                }
              ],
              "schema": [
                {
                  "key": "0",
                  "name": "Location",
                  "type": "string"
                },
                {
                  "key": "1",
                  "name": "avg(MinTemp)",
                  "type": "double"
                },
                {
                  "key": "2",
                  "name": "avg(MaxTemp)",
                  "type": "double"
                }
              ],
              "truncated": false
            },
            "isSummary": false,
            "language": "scala"
          },
          "persist_state": {
            "view": {
              "type": "details",
              "tableOptions": {},
              "chartOptions": {
                "chartType": "bar",
                "aggregationType": "sum",
                "categoryFieldKeys": [
                  "0"
                ],
                "seriesFieldKeys": [
                  "1"
                ],
                "isStacked": false
              }
            }
          }
        }
      }
    }
  },
  "nbformat": 4,
  "nbformat_minor": 2
}